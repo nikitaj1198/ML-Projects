{
 "cells": [
  {
   "cell_type": "markdown",
   "id": "96201e2f",
   "metadata": {},
   "source": [
    "# Project: Stock Market Data Analysis and Prediction"
   ]
  },
  {
   "cell_type": "markdown",
   "id": "c62f0abf",
   "metadata": {},
   "source": [
    "### Here, we are using the stock data of Tesla company which is from 2010 to 2020 for analysis and prediction.\n",
    "\n",
    "\n",
    "### What the Stock Market is ?\n",
    "\n",
    "* Stock Market is a place where buying and selling of shares happen for publicly listed companies.\n",
    "\n",
    "\n",
    "* Stock exchange is the mediator that allows buying and selling of shares.\n",
    "\n",
    "\n",
    "* Stock Market is considered to be one of the most widely used sources for people to invest money in.\n",
    "\n",
    "\n",
    "### Stock Market Prediction:\n",
    "\n",
    "* Stock Market Prediction helps investors to determine the future value of company stock and other financial instruments traded on an exchange.\n",
    "\n",
    "\n",
    "### The dataset contains:\n",
    "\n",
    "#### 1. Opening price: \n",
    "* The opening price is the value that each share has the opening price gives a good indication of where the stock              will move during the day.\n",
    "\n",
    "\n",
    "#### 2. Closing price:\n",
    "* The closing price is the value that at what price that share has been closed.\n",
    "\n",
    "\n",
    "#### 3. Highest price:\n",
    "* Highest price for that particular day.\n",
    "\n",
    "\n",
    "#### 4. Lowest price:\n",
    "* Lowest price for that particular day.\n",
    "\n",
    "\n",
    "#### 5. Volume:\n",
    "* Volume is the number of shares or contract traded in a security or an entire market during a give period of time."
   ]
  },
  {
   "cell_type": "markdown",
   "id": "9acb466a",
   "metadata": {},
   "source": [
    "## Importing the required libraries:\n",
    "\n",
    "* So, we need to import the required python libraries."
   ]
  },
  {
   "cell_type": "code",
   "execution_count": 1,
   "id": "87e4154d",
   "metadata": {},
   "outputs": [],
   "source": [
    "import numpy as np\n",
    "import pandas as pd\n",
    "import seaborn as sns\n",
    "import matplotlib.pyplot as plt\n",
    "\n",
    "import warnings\n",
    "warnings.filterwarnings(\"ignore\")"
   ]
  },
  {
   "cell_type": "markdown",
   "id": "a1502028",
   "metadata": {},
   "source": [
    "## Loading the data into DataFrame:\n",
    "\n",
    "* Here, we will load our data which is in csv format into the pandas DataFrame."
   ]
  },
  {
   "cell_type": "code",
   "execution_count": 2,
   "id": "f57139ed",
   "metadata": {},
   "outputs": [
    {
     "data": {
      "text/html": [
       "<div>\n",
       "<style scoped>\n",
       "    .dataframe tbody tr th:only-of-type {\n",
       "        vertical-align: middle;\n",
       "    }\n",
       "\n",
       "    .dataframe tbody tr th {\n",
       "        vertical-align: top;\n",
       "    }\n",
       "\n",
       "    .dataframe thead th {\n",
       "        text-align: right;\n",
       "    }\n",
       "</style>\n",
       "<table border=\"1\" class=\"dataframe\">\n",
       "  <thead>\n",
       "    <tr style=\"text-align: right;\">\n",
       "      <th></th>\n",
       "      <th>Date</th>\n",
       "      <th>Open</th>\n",
       "      <th>High</th>\n",
       "      <th>Low</th>\n",
       "      <th>Close</th>\n",
       "      <th>Adj Close</th>\n",
       "      <th>Volume</th>\n",
       "    </tr>\n",
       "  </thead>\n",
       "  <tbody>\n",
       "    <tr>\n",
       "      <th>0</th>\n",
       "      <td>2010-06-29</td>\n",
       "      <td>19.000000</td>\n",
       "      <td>25.000000</td>\n",
       "      <td>17.540001</td>\n",
       "      <td>23.889999</td>\n",
       "      <td>23.889999</td>\n",
       "      <td>18766300</td>\n",
       "    </tr>\n",
       "    <tr>\n",
       "      <th>1</th>\n",
       "      <td>2010-06-30</td>\n",
       "      <td>25.790001</td>\n",
       "      <td>30.420000</td>\n",
       "      <td>23.299999</td>\n",
       "      <td>23.830000</td>\n",
       "      <td>23.830000</td>\n",
       "      <td>17187100</td>\n",
       "    </tr>\n",
       "    <tr>\n",
       "      <th>2</th>\n",
       "      <td>2010-07-01</td>\n",
       "      <td>25.000000</td>\n",
       "      <td>25.920000</td>\n",
       "      <td>20.270000</td>\n",
       "      <td>21.959999</td>\n",
       "      <td>21.959999</td>\n",
       "      <td>8218800</td>\n",
       "    </tr>\n",
       "    <tr>\n",
       "      <th>3</th>\n",
       "      <td>2010-07-02</td>\n",
       "      <td>23.000000</td>\n",
       "      <td>23.100000</td>\n",
       "      <td>18.709999</td>\n",
       "      <td>19.200001</td>\n",
       "      <td>19.200001</td>\n",
       "      <td>5139800</td>\n",
       "    </tr>\n",
       "    <tr>\n",
       "      <th>4</th>\n",
       "      <td>2010-07-06</td>\n",
       "      <td>20.000000</td>\n",
       "      <td>20.000000</td>\n",
       "      <td>15.830000</td>\n",
       "      <td>16.110001</td>\n",
       "      <td>16.110001</td>\n",
       "      <td>6866900</td>\n",
       "    </tr>\n",
       "    <tr>\n",
       "      <th>...</th>\n",
       "      <td>...</td>\n",
       "      <td>...</td>\n",
       "      <td>...</td>\n",
       "      <td>...</td>\n",
       "      <td>...</td>\n",
       "      <td>...</td>\n",
       "      <td>...</td>\n",
       "    </tr>\n",
       "    <tr>\n",
       "      <th>2411</th>\n",
       "      <td>2020-01-28</td>\n",
       "      <td>568.489990</td>\n",
       "      <td>576.809998</td>\n",
       "      <td>558.080017</td>\n",
       "      <td>566.900024</td>\n",
       "      <td>566.900024</td>\n",
       "      <td>11788500</td>\n",
       "    </tr>\n",
       "    <tr>\n",
       "      <th>2412</th>\n",
       "      <td>2020-01-29</td>\n",
       "      <td>575.690002</td>\n",
       "      <td>589.799988</td>\n",
       "      <td>567.429993</td>\n",
       "      <td>580.989990</td>\n",
       "      <td>580.989990</td>\n",
       "      <td>17801500</td>\n",
       "    </tr>\n",
       "    <tr>\n",
       "      <th>2413</th>\n",
       "      <td>2020-01-30</td>\n",
       "      <td>632.419983</td>\n",
       "      <td>650.880005</td>\n",
       "      <td>618.000000</td>\n",
       "      <td>640.809998</td>\n",
       "      <td>640.809998</td>\n",
       "      <td>29005700</td>\n",
       "    </tr>\n",
       "    <tr>\n",
       "      <th>2414</th>\n",
       "      <td>2020-01-31</td>\n",
       "      <td>640.000000</td>\n",
       "      <td>653.000000</td>\n",
       "      <td>632.520020</td>\n",
       "      <td>650.570007</td>\n",
       "      <td>650.570007</td>\n",
       "      <td>15719300</td>\n",
       "    </tr>\n",
       "    <tr>\n",
       "      <th>2415</th>\n",
       "      <td>2020-02-03</td>\n",
       "      <td>673.690002</td>\n",
       "      <td>786.140015</td>\n",
       "      <td>673.520020</td>\n",
       "      <td>780.000000</td>\n",
       "      <td>780.000000</td>\n",
       "      <td>47065000</td>\n",
       "    </tr>\n",
       "  </tbody>\n",
       "</table>\n",
       "<p>2416 rows × 7 columns</p>\n",
       "</div>"
      ],
      "text/plain": [
       "            Date        Open        High         Low       Close   Adj Close  \\\n",
       "0     2010-06-29   19.000000   25.000000   17.540001   23.889999   23.889999   \n",
       "1     2010-06-30   25.790001   30.420000   23.299999   23.830000   23.830000   \n",
       "2     2010-07-01   25.000000   25.920000   20.270000   21.959999   21.959999   \n",
       "3     2010-07-02   23.000000   23.100000   18.709999   19.200001   19.200001   \n",
       "4     2010-07-06   20.000000   20.000000   15.830000   16.110001   16.110001   \n",
       "...          ...         ...         ...         ...         ...         ...   \n",
       "2411  2020-01-28  568.489990  576.809998  558.080017  566.900024  566.900024   \n",
       "2412  2020-01-29  575.690002  589.799988  567.429993  580.989990  580.989990   \n",
       "2413  2020-01-30  632.419983  650.880005  618.000000  640.809998  640.809998   \n",
       "2414  2020-01-31  640.000000  653.000000  632.520020  650.570007  650.570007   \n",
       "2415  2020-02-03  673.690002  786.140015  673.520020  780.000000  780.000000   \n",
       "\n",
       "        Volume  \n",
       "0     18766300  \n",
       "1     17187100  \n",
       "2      8218800  \n",
       "3      5139800  \n",
       "4      6866900  \n",
       "...        ...  \n",
       "2411  11788500  \n",
       "2412  17801500  \n",
       "2413  29005700  \n",
       "2414  15719300  \n",
       "2415  47065000  \n",
       "\n",
       "[2416 rows x 7 columns]"
      ]
     },
     "execution_count": 2,
     "metadata": {},
     "output_type": "execute_result"
    }
   ],
   "source": [
    "# read_csv() is the pandas method used to convert csv file into pandas DataFrame.\n",
    "\n",
    "stock_data = pd.read_csv(\"Tesla Stock Data.csv\")\n",
    "\n",
    "stock_data"
   ]
  },
  {
   "cell_type": "markdown",
   "id": "5b976f75",
   "metadata": {},
   "source": [
    "## EDA and Preprocessing:\n",
    "\n",
    "* Exploratory Data Analysis (EDA) is an approach to analyze the data. \n",
    "\n",
    "\n",
    "* It is used to discover trends, patterns, or to check assumptions with the help of statistical summary and graphical representations.\n",
    "\n",
    "\n",
    "* Data Pre-processing is a technique that is used to convert the raw data into a clean data set which includes handling missing values, removing outliers, data transformation etc."
   ]
  },
  {
   "cell_type": "code",
   "execution_count": 3,
   "id": "201c98cd",
   "metadata": {
    "scrolled": true
   },
   "outputs": [
    {
     "data": {
      "text/html": [
       "<div>\n",
       "<style scoped>\n",
       "    .dataframe tbody tr th:only-of-type {\n",
       "        vertical-align: middle;\n",
       "    }\n",
       "\n",
       "    .dataframe tbody tr th {\n",
       "        vertical-align: top;\n",
       "    }\n",
       "\n",
       "    .dataframe thead th {\n",
       "        text-align: right;\n",
       "    }\n",
       "</style>\n",
       "<table border=\"1\" class=\"dataframe\">\n",
       "  <thead>\n",
       "    <tr style=\"text-align: right;\">\n",
       "      <th></th>\n",
       "      <th>Date</th>\n",
       "      <th>Open</th>\n",
       "      <th>High</th>\n",
       "      <th>Low</th>\n",
       "      <th>Close</th>\n",
       "      <th>Adj Close</th>\n",
       "      <th>Volume</th>\n",
       "    </tr>\n",
       "  </thead>\n",
       "  <tbody>\n",
       "    <tr>\n",
       "      <th>0</th>\n",
       "      <td>2010-06-29</td>\n",
       "      <td>19.000000</td>\n",
       "      <td>25.00</td>\n",
       "      <td>17.540001</td>\n",
       "      <td>23.889999</td>\n",
       "      <td>23.889999</td>\n",
       "      <td>18766300</td>\n",
       "    </tr>\n",
       "    <tr>\n",
       "      <th>1</th>\n",
       "      <td>2010-06-30</td>\n",
       "      <td>25.790001</td>\n",
       "      <td>30.42</td>\n",
       "      <td>23.299999</td>\n",
       "      <td>23.830000</td>\n",
       "      <td>23.830000</td>\n",
       "      <td>17187100</td>\n",
       "    </tr>\n",
       "    <tr>\n",
       "      <th>2</th>\n",
       "      <td>2010-07-01</td>\n",
       "      <td>25.000000</td>\n",
       "      <td>25.92</td>\n",
       "      <td>20.270000</td>\n",
       "      <td>21.959999</td>\n",
       "      <td>21.959999</td>\n",
       "      <td>8218800</td>\n",
       "    </tr>\n",
       "    <tr>\n",
       "      <th>3</th>\n",
       "      <td>2010-07-02</td>\n",
       "      <td>23.000000</td>\n",
       "      <td>23.10</td>\n",
       "      <td>18.709999</td>\n",
       "      <td>19.200001</td>\n",
       "      <td>19.200001</td>\n",
       "      <td>5139800</td>\n",
       "    </tr>\n",
       "    <tr>\n",
       "      <th>4</th>\n",
       "      <td>2010-07-06</td>\n",
       "      <td>20.000000</td>\n",
       "      <td>20.00</td>\n",
       "      <td>15.830000</td>\n",
       "      <td>16.110001</td>\n",
       "      <td>16.110001</td>\n",
       "      <td>6866900</td>\n",
       "    </tr>\n",
       "  </tbody>\n",
       "</table>\n",
       "</div>"
      ],
      "text/plain": [
       "         Date       Open   High        Low      Close  Adj Close    Volume\n",
       "0  2010-06-29  19.000000  25.00  17.540001  23.889999  23.889999  18766300\n",
       "1  2010-06-30  25.790001  30.42  23.299999  23.830000  23.830000  17187100\n",
       "2  2010-07-01  25.000000  25.92  20.270000  21.959999  21.959999   8218800\n",
       "3  2010-07-02  23.000000  23.10  18.709999  19.200001  19.200001   5139800\n",
       "4  2010-07-06  20.000000  20.00  15.830000  16.110001  16.110001   6866900"
      ]
     },
     "execution_count": 3,
     "metadata": {},
     "output_type": "execute_result"
    }
   ],
   "source": [
    "stock_data.head()    # head() will gives us by default first 5 rows of the dataset."
   ]
  },
  {
   "cell_type": "code",
   "execution_count": 4,
   "id": "ad3db3bc",
   "metadata": {
    "scrolled": true
   },
   "outputs": [
    {
     "data": {
      "text/html": [
       "<div>\n",
       "<style scoped>\n",
       "    .dataframe tbody tr th:only-of-type {\n",
       "        vertical-align: middle;\n",
       "    }\n",
       "\n",
       "    .dataframe tbody tr th {\n",
       "        vertical-align: top;\n",
       "    }\n",
       "\n",
       "    .dataframe thead th {\n",
       "        text-align: right;\n",
       "    }\n",
       "</style>\n",
       "<table border=\"1\" class=\"dataframe\">\n",
       "  <thead>\n",
       "    <tr style=\"text-align: right;\">\n",
       "      <th></th>\n",
       "      <th>Date</th>\n",
       "      <th>Open</th>\n",
       "      <th>High</th>\n",
       "      <th>Low</th>\n",
       "      <th>Close</th>\n",
       "      <th>Adj Close</th>\n",
       "      <th>Volume</th>\n",
       "    </tr>\n",
       "  </thead>\n",
       "  <tbody>\n",
       "    <tr>\n",
       "      <th>2411</th>\n",
       "      <td>2020-01-28</td>\n",
       "      <td>568.489990</td>\n",
       "      <td>576.809998</td>\n",
       "      <td>558.080017</td>\n",
       "      <td>566.900024</td>\n",
       "      <td>566.900024</td>\n",
       "      <td>11788500</td>\n",
       "    </tr>\n",
       "    <tr>\n",
       "      <th>2412</th>\n",
       "      <td>2020-01-29</td>\n",
       "      <td>575.690002</td>\n",
       "      <td>589.799988</td>\n",
       "      <td>567.429993</td>\n",
       "      <td>580.989990</td>\n",
       "      <td>580.989990</td>\n",
       "      <td>17801500</td>\n",
       "    </tr>\n",
       "    <tr>\n",
       "      <th>2413</th>\n",
       "      <td>2020-01-30</td>\n",
       "      <td>632.419983</td>\n",
       "      <td>650.880005</td>\n",
       "      <td>618.000000</td>\n",
       "      <td>640.809998</td>\n",
       "      <td>640.809998</td>\n",
       "      <td>29005700</td>\n",
       "    </tr>\n",
       "    <tr>\n",
       "      <th>2414</th>\n",
       "      <td>2020-01-31</td>\n",
       "      <td>640.000000</td>\n",
       "      <td>653.000000</td>\n",
       "      <td>632.520020</td>\n",
       "      <td>650.570007</td>\n",
       "      <td>650.570007</td>\n",
       "      <td>15719300</td>\n",
       "    </tr>\n",
       "    <tr>\n",
       "      <th>2415</th>\n",
       "      <td>2020-02-03</td>\n",
       "      <td>673.690002</td>\n",
       "      <td>786.140015</td>\n",
       "      <td>673.520020</td>\n",
       "      <td>780.000000</td>\n",
       "      <td>780.000000</td>\n",
       "      <td>47065000</td>\n",
       "    </tr>\n",
       "  </tbody>\n",
       "</table>\n",
       "</div>"
      ],
      "text/plain": [
       "            Date        Open        High         Low       Close   Adj Close  \\\n",
       "2411  2020-01-28  568.489990  576.809998  558.080017  566.900024  566.900024   \n",
       "2412  2020-01-29  575.690002  589.799988  567.429993  580.989990  580.989990   \n",
       "2413  2020-01-30  632.419983  650.880005  618.000000  640.809998  640.809998   \n",
       "2414  2020-01-31  640.000000  653.000000  632.520020  650.570007  650.570007   \n",
       "2415  2020-02-03  673.690002  786.140015  673.520020  780.000000  780.000000   \n",
       "\n",
       "        Volume  \n",
       "2411  11788500  \n",
       "2412  17801500  \n",
       "2413  29005700  \n",
       "2414  15719300  \n",
       "2415  47065000  "
      ]
     },
     "execution_count": 4,
     "metadata": {},
     "output_type": "execute_result"
    }
   ],
   "source": [
    "stock_data.tail()    # tail() will gives us by default last 5 rows of the dataset."
   ]
  },
  {
   "cell_type": "code",
   "execution_count": 5,
   "id": "3cb70c54",
   "metadata": {},
   "outputs": [
    {
     "data": {
      "text/plain": [
       "(2416, 7)"
      ]
     },
     "execution_count": 5,
     "metadata": {},
     "output_type": "execute_result"
    }
   ],
   "source": [
    "stock_data.shape   # shape will provide total no. of rows and columns present in the dataset (rows, columns)"
   ]
  },
  {
   "cell_type": "markdown",
   "id": "7913fffd",
   "metadata": {},
   "source": [
    "#### Here, we can see that our dataset contains 2416 rows and 7 columns."
   ]
  },
  {
   "cell_type": "code",
   "execution_count": 6,
   "id": "84892479",
   "metadata": {},
   "outputs": [
    {
     "data": {
      "text/plain": [
       "Index(['Date', 'Open', 'High', 'Low', 'Close', 'Adj Close', 'Volume'], dtype='object')"
      ]
     },
     "execution_count": 6,
     "metadata": {},
     "output_type": "execute_result"
    }
   ],
   "source": [
    "stock_data.columns    # columns will give what are the columns present in the dataset."
   ]
  },
  {
   "cell_type": "code",
   "execution_count": 7,
   "id": "34ece096",
   "metadata": {},
   "outputs": [
    {
     "name": "stdout",
     "output_type": "stream",
     "text": [
      "Date\n",
      "Open\n",
      "High\n",
      "Low\n",
      "Close\n",
      "Adj Close\n",
      "Volume\n"
     ]
    }
   ],
   "source": [
    "for i in stock_data.columns:\n",
    "    print(i)"
   ]
  },
  {
   "cell_type": "code",
   "execution_count": 8,
   "id": "316083ac",
   "metadata": {},
   "outputs": [
    {
     "name": "stdout",
     "output_type": "stream",
     "text": [
      "<class 'pandas.core.frame.DataFrame'>\n",
      "RangeIndex: 2416 entries, 0 to 2415\n",
      "Data columns (total 7 columns):\n",
      " #   Column     Non-Null Count  Dtype  \n",
      "---  ------     --------------  -----  \n",
      " 0   Date       2416 non-null   object \n",
      " 1   Open       2416 non-null   float64\n",
      " 2   High       2416 non-null   float64\n",
      " 3   Low        2416 non-null   float64\n",
      " 4   Close      2416 non-null   float64\n",
      " 5   Adj Close  2416 non-null   float64\n",
      " 6   Volume     2416 non-null   int64  \n",
      "dtypes: float64(5), int64(1), object(1)\n",
      "memory usage: 132.2+ KB\n"
     ]
    }
   ],
   "source": [
    "stock_data.info()    # info() will give the information about the each columns."
   ]
  },
  {
   "cell_type": "markdown",
   "id": "68ce3620",
   "metadata": {},
   "source": [
    "## Checking the Datatype of each column:\n",
    "\n",
    "* Here, we check the datatype of column because sometimes any numeric data can be stored as string.\n",
    "\n",
    "\n",
    "* If in that case, we have to convert that string to the integer data, only then we can plot the data via graph."
   ]
  },
  {
   "cell_type": "code",
   "execution_count": 9,
   "id": "0e499e09",
   "metadata": {},
   "outputs": [
    {
     "data": {
      "text/plain": [
       "Date          object\n",
       "Open         float64\n",
       "High         float64\n",
       "Low          float64\n",
       "Close        float64\n",
       "Adj Close    float64\n",
       "Volume         int64\n",
       "dtype: object"
      ]
     },
     "execution_count": 9,
     "metadata": {},
     "output_type": "execute_result"
    }
   ],
   "source": [
    "stock_data.dtypes"
   ]
  },
  {
   "cell_type": "code",
   "execution_count": 10,
   "id": "a4320013",
   "metadata": {},
   "outputs": [
    {
     "data": {
      "text/html": [
       "<div>\n",
       "<style scoped>\n",
       "    .dataframe tbody tr th:only-of-type {\n",
       "        vertical-align: middle;\n",
       "    }\n",
       "\n",
       "    .dataframe tbody tr th {\n",
       "        vertical-align: top;\n",
       "    }\n",
       "\n",
       "    .dataframe thead th {\n",
       "        text-align: right;\n",
       "    }\n",
       "</style>\n",
       "<table border=\"1\" class=\"dataframe\">\n",
       "  <thead>\n",
       "    <tr style=\"text-align: right;\">\n",
       "      <th></th>\n",
       "      <th>Open</th>\n",
       "      <th>High</th>\n",
       "      <th>Low</th>\n",
       "      <th>Close</th>\n",
       "      <th>Adj Close</th>\n",
       "      <th>Volume</th>\n",
       "    </tr>\n",
       "  </thead>\n",
       "  <tbody>\n",
       "    <tr>\n",
       "      <th>count</th>\n",
       "      <td>2416.000000</td>\n",
       "      <td>2416.000000</td>\n",
       "      <td>2416.000000</td>\n",
       "      <td>2416.000000</td>\n",
       "      <td>2416.000000</td>\n",
       "      <td>2.416000e+03</td>\n",
       "    </tr>\n",
       "    <tr>\n",
       "      <th>mean</th>\n",
       "      <td>186.271147</td>\n",
       "      <td>189.578224</td>\n",
       "      <td>182.916639</td>\n",
       "      <td>186.403651</td>\n",
       "      <td>186.403651</td>\n",
       "      <td>5.572722e+06</td>\n",
       "    </tr>\n",
       "    <tr>\n",
       "      <th>std</th>\n",
       "      <td>118.740163</td>\n",
       "      <td>120.892329</td>\n",
       "      <td>116.857591</td>\n",
       "      <td>119.136020</td>\n",
       "      <td>119.136020</td>\n",
       "      <td>4.987809e+06</td>\n",
       "    </tr>\n",
       "    <tr>\n",
       "      <th>min</th>\n",
       "      <td>16.139999</td>\n",
       "      <td>16.629999</td>\n",
       "      <td>14.980000</td>\n",
       "      <td>15.800000</td>\n",
       "      <td>15.800000</td>\n",
       "      <td>1.185000e+05</td>\n",
       "    </tr>\n",
       "    <tr>\n",
       "      <th>25%</th>\n",
       "      <td>34.342498</td>\n",
       "      <td>34.897501</td>\n",
       "      <td>33.587501</td>\n",
       "      <td>34.400002</td>\n",
       "      <td>34.400002</td>\n",
       "      <td>1.899275e+06</td>\n",
       "    </tr>\n",
       "    <tr>\n",
       "      <th>50%</th>\n",
       "      <td>213.035004</td>\n",
       "      <td>216.745002</td>\n",
       "      <td>208.870002</td>\n",
       "      <td>212.960007</td>\n",
       "      <td>212.960007</td>\n",
       "      <td>4.578400e+06</td>\n",
       "    </tr>\n",
       "    <tr>\n",
       "      <th>75%</th>\n",
       "      <td>266.450012</td>\n",
       "      <td>270.927513</td>\n",
       "      <td>262.102501</td>\n",
       "      <td>266.774994</td>\n",
       "      <td>266.774994</td>\n",
       "      <td>7.361150e+06</td>\n",
       "    </tr>\n",
       "    <tr>\n",
       "      <th>max</th>\n",
       "      <td>673.690002</td>\n",
       "      <td>786.140015</td>\n",
       "      <td>673.520020</td>\n",
       "      <td>780.000000</td>\n",
       "      <td>780.000000</td>\n",
       "      <td>4.706500e+07</td>\n",
       "    </tr>\n",
       "  </tbody>\n",
       "</table>\n",
       "</div>"
      ],
      "text/plain": [
       "              Open         High          Low        Close    Adj Close  \\\n",
       "count  2416.000000  2416.000000  2416.000000  2416.000000  2416.000000   \n",
       "mean    186.271147   189.578224   182.916639   186.403651   186.403651   \n",
       "std     118.740163   120.892329   116.857591   119.136020   119.136020   \n",
       "min      16.139999    16.629999    14.980000    15.800000    15.800000   \n",
       "25%      34.342498    34.897501    33.587501    34.400002    34.400002   \n",
       "50%     213.035004   216.745002   208.870002   212.960007   212.960007   \n",
       "75%     266.450012   270.927513   262.102501   266.774994   266.774994   \n",
       "max     673.690002   786.140015   673.520020   780.000000   780.000000   \n",
       "\n",
       "             Volume  \n",
       "count  2.416000e+03  \n",
       "mean   5.572722e+06  \n",
       "std    4.987809e+06  \n",
       "min    1.185000e+05  \n",
       "25%    1.899275e+06  \n",
       "50%    4.578400e+06  \n",
       "75%    7.361150e+06  \n",
       "max    4.706500e+07  "
      ]
     },
     "execution_count": 10,
     "metadata": {},
     "output_type": "execute_result"
    }
   ],
   "source": [
    "stock_data.describe()    # It will give the statistical information of the numeric column of the data."
   ]
  },
  {
   "cell_type": "markdown",
   "id": "c6f6fd51",
   "metadata": {},
   "source": [
    "### Maximum and minimum prices of shares from overall dataset:"
   ]
  },
  {
   "cell_type": "code",
   "execution_count": 11,
   "id": "914aacc3",
   "metadata": {},
   "outputs": [
    {
     "data": {
      "text/plain": [
       "673.690002"
      ]
     },
     "execution_count": 11,
     "metadata": {},
     "output_type": "execute_result"
    }
   ],
   "source": [
    "# Maximum Opening price of share\n",
    "\n",
    "stock_data.Open.max()"
   ]
  },
  {
   "cell_type": "code",
   "execution_count": 12,
   "id": "6032567d",
   "metadata": {},
   "outputs": [
    {
     "data": {
      "text/plain": [
       "16.139999"
      ]
     },
     "execution_count": 12,
     "metadata": {},
     "output_type": "execute_result"
    }
   ],
   "source": [
    "# Minimum Opening price of share\n",
    "\n",
    "stock_data.Open.min()"
   ]
  },
  {
   "cell_type": "code",
   "execution_count": 13,
   "id": "68768ec9",
   "metadata": {},
   "outputs": [
    {
     "data": {
      "text/plain": [
       "780.0"
      ]
     },
     "execution_count": 13,
     "metadata": {},
     "output_type": "execute_result"
    }
   ],
   "source": [
    "# Maximum Closing price of share\n",
    "\n",
    "stock_data.Close.max()"
   ]
  },
  {
   "cell_type": "code",
   "execution_count": 14,
   "id": "2c6cd604",
   "metadata": {},
   "outputs": [
    {
     "data": {
      "text/plain": [
       "15.8"
      ]
     },
     "execution_count": 14,
     "metadata": {},
     "output_type": "execute_result"
    }
   ],
   "source": [
    "# Minimum Closing price of share\n",
    "\n",
    "stock_data.Close.min()"
   ]
  },
  {
   "cell_type": "code",
   "execution_count": 15,
   "id": "e601233c",
   "metadata": {},
   "outputs": [
    {
     "data": {
      "text/plain": [
       "786.140015"
      ]
     },
     "execution_count": 15,
     "metadata": {},
     "output_type": "execute_result"
    }
   ],
   "source": [
    "# Maximum Highest price of share\n",
    "\n",
    "stock_data.High.max()"
   ]
  },
  {
   "cell_type": "code",
   "execution_count": 16,
   "id": "00bb0682",
   "metadata": {},
   "outputs": [
    {
     "data": {
      "text/plain": [
       "16.629999"
      ]
     },
     "execution_count": 16,
     "metadata": {},
     "output_type": "execute_result"
    }
   ],
   "source": [
    "# Minimum Highest price of share\n",
    "\n",
    "stock_data.High.min()"
   ]
  },
  {
   "cell_type": "code",
   "execution_count": 17,
   "id": "ed75399a",
   "metadata": {},
   "outputs": [
    {
     "data": {
      "text/plain": [
       "673.52002"
      ]
     },
     "execution_count": 17,
     "metadata": {},
     "output_type": "execute_result"
    }
   ],
   "source": [
    "# Maximum Lowest price of share\n",
    "\n",
    "stock_data.Low.max()"
   ]
  },
  {
   "cell_type": "code",
   "execution_count": 18,
   "id": "6f1488a8",
   "metadata": {},
   "outputs": [
    {
     "data": {
      "text/plain": [
       "14.98"
      ]
     },
     "execution_count": 18,
     "metadata": {},
     "output_type": "execute_result"
    }
   ],
   "source": [
    "# Minimum Lowest price of share\n",
    "\n",
    "stock_data.Low.min()"
   ]
  },
  {
   "cell_type": "code",
   "execution_count": 19,
   "id": "39e0ac8a",
   "metadata": {},
   "outputs": [
    {
     "data": {
      "text/plain": [
       "47065000"
      ]
     },
     "execution_count": 19,
     "metadata": {},
     "output_type": "execute_result"
    }
   ],
   "source": [
    "# Maximum volume of share\n",
    "\n",
    "stock_data.Volume.max()"
   ]
  },
  {
   "cell_type": "code",
   "execution_count": 20,
   "id": "f5a0489f",
   "metadata": {},
   "outputs": [
    {
     "data": {
      "text/plain": [
       "118500"
      ]
     },
     "execution_count": 20,
     "metadata": {},
     "output_type": "execute_result"
    }
   ],
   "source": [
    "# Minimum volume of share\n",
    "\n",
    "stock_data.Volume.min()"
   ]
  },
  {
   "cell_type": "code",
   "execution_count": 21,
   "id": "6ac5d0c8",
   "metadata": {},
   "outputs": [
    {
     "data": {
      "text/plain": [
       "'2020-02-03'"
      ]
     },
     "execution_count": 21,
     "metadata": {},
     "output_type": "execute_result"
    }
   ],
   "source": [
    "stock_data['Date'].max()"
   ]
  },
  {
   "cell_type": "code",
   "execution_count": 22,
   "id": "500f83e2",
   "metadata": {},
   "outputs": [
    {
     "data": {
      "text/plain": [
       "'2010-06-29'"
      ]
     },
     "execution_count": 22,
     "metadata": {},
     "output_type": "execute_result"
    }
   ],
   "source": [
    "stock_data['Date'].min()"
   ]
  },
  {
   "cell_type": "markdown",
   "id": "02c5d4a3",
   "metadata": {},
   "source": [
    "* Here, we can observe that we are having the stock prices from year 2010 to 2020."
   ]
  },
  {
   "cell_type": "markdown",
   "id": "fbf7efdc",
   "metadata": {},
   "source": [
    "### Maximum and minimum prices of shares for each year:"
   ]
  },
  {
   "cell_type": "code",
   "execution_count": 23,
   "id": "c6bf1f12",
   "metadata": {
    "scrolled": false
   },
   "outputs": [
    {
     "name": "stdout",
     "output_type": "stream",
     "text": [
      "Maximum share price for year 2010:\n",
      "Date         2010-12-31\n",
      "Open          35.869999\n",
      "High          36.419998\n",
      "Low               34.75\n",
      "Close         35.470001\n",
      "Adj Close     35.470001\n",
      "Volume         18766300\n",
      "dtype: object\n",
      " \n",
      "Minimum share price for year 2010:\n",
      "Date         2010-06-29\n",
      "Open          16.139999\n",
      "High          16.629999\n",
      "Low               14.98\n",
      "Close              15.8\n",
      "Adj Close          15.8\n",
      "Volume           118500\n",
      "dtype: object\n",
      " \n",
      "Maximum share price for year 2011:\n",
      "Date         2011-12-30\n",
      "Open          34.630001\n",
      "High               35.0\n",
      "Low           34.029999\n",
      "Close         34.939999\n",
      "Adj Close     34.939999\n",
      "Volume         11517800\n",
      "dtype: object\n",
      " \n",
      "Minimum share price for year 2011:\n",
      "Date         2011-01-03\n",
      "Open          21.780001\n",
      "High              22.27\n",
      "Low           21.110001\n",
      "Close             21.83\n",
      "Adj Close         21.83\n",
      "Volume           239600\n",
      "dtype: object\n",
      " \n",
      "Maximum share price for year 2012:\n",
      "Date         2012-12-31\n",
      "Open          38.189999\n",
      "High          39.950001\n",
      "Low           37.110001\n",
      "Close         38.009998\n",
      "Adj Close     38.009998\n",
      "Volume          5680400\n",
      "dtype: object\n",
      " \n",
      "Minimum share price for year 2012:\n",
      "Date         2012-01-03\n",
      "Open          26.620001\n",
      "High              26.85\n",
      "Low           22.639999\n",
      "Close         22.790001\n",
      "Adj Close     22.790001\n",
      "Volume           364900\n",
      "dtype: object\n",
      " \n",
      "Maximum share price for year 2013:\n",
      "Date         2013-12-31\n",
      "Open         193.960007\n",
      "High              194.5\n",
      "Low          188.369995\n",
      "Close        193.369995\n",
      "Adj Close    193.369995\n",
      "Volume         37163900\n",
      "dtype: object\n",
      " \n",
      "Minimum share price for year 2013:\n",
      "Date         2013-01-02\n",
      "Open          33.080002\n",
      "High          33.380001\n",
      "Low           32.110001\n",
      "Close             32.91\n",
      "Adj Close         32.91\n",
      "Volume           440200\n",
      "dtype: object\n",
      " \n",
      "Maximum share price for year 2014:\n",
      "Date         2014-12-31\n",
      "Open         287.670013\n",
      "High         291.420013\n",
      "Low          280.399994\n",
      "Close        286.040009\n",
      "Adj Close    286.040009\n",
      "Volume         32681700\n",
      "dtype: object\n",
      " \n",
      "Minimum share price for year 2014:\n",
      "Date         2014-01-02\n",
      "Open              140.5\n",
      "High              147.0\n",
      "Low          136.669998\n",
      "Close        139.339996\n",
      "Adj Close    139.339996\n",
      "Volume          1332200\n",
      "dtype: object\n",
      " \n",
      "Maximum share price for year 2015:\n",
      "Date         2015-12-31\n",
      "Open         280.200012\n",
      "High         286.649994\n",
      "Low          276.299988\n",
      "Close         282.26001\n",
      "Adj Close     282.26001\n",
      "Volume         15649600\n",
      "dtype: object\n",
      " \n",
      "Minimum share price for year 2015:\n",
      "Date         2015-01-02\n",
      "Open         185.830002\n",
      "High         189.289993\n",
      "Low          181.399994\n",
      "Close             185.0\n",
      "Adj Close         185.0\n",
      "Volume           708000\n",
      "dtype: object\n",
      " \n",
      "Maximum share price for year 2016:\n",
      "Date         2016-12-30\n",
      "Open         266.450012\n",
      "High         269.339996\n",
      "Low          254.509995\n",
      "Close        265.420013\n",
      "Adj Close    265.420013\n",
      "Volume         23742400\n",
      "dtype: object\n",
      " \n",
      "Minimum share price for year 2016:\n",
      "Date         2016-01-04\n",
      "Open         142.320007\n",
      "High         154.970001\n",
      "Low          141.050003\n",
      "Close        143.669998\n",
      "Adj Close    143.669998\n",
      "Volume          1659500\n",
      "dtype: object\n",
      " \n",
      "Maximum share price for year 2017:\n",
      "Date         2017-12-29\n",
      "Open         386.690002\n",
      "High         389.609985\n",
      "Low          379.350006\n",
      "Close             385.0\n",
      "Adj Close         385.0\n",
      "Volume         19791400\n",
      "dtype: object\n",
      " \n",
      "Minimum share price for year 2017:\n",
      "Date         2017-01-03\n",
      "Open             214.75\n",
      "High         220.330002\n",
      "Low          210.960007\n",
      "Close        216.990005\n",
      "Adj Close    216.990005\n",
      "Volume          2186700\n",
      "dtype: object\n",
      " \n",
      "Maximum share price for year 2018:\n",
      "Date         2018-12-31\n",
      "Open              375.0\n",
      "High         387.459991\n",
      "Low          367.119995\n",
      "Close        379.570007\n",
      "Adj Close    379.570007\n",
      "Volume         33649700\n",
      "dtype: object\n",
      " \n",
      "Minimum share price for year 2018:\n",
      "Date         2018-01-02\n",
      "Open         252.779999\n",
      "High         260.329987\n",
      "Low          244.589996\n",
      "Close        250.559998\n",
      "Adj Close    250.559998\n",
      "Volume          3080700\n",
      "dtype: object\n",
      " \n",
      "Maximum share price for year 2019:\n",
      "Date         2019-12-31\n",
      "Open              435.0\n",
      "High         435.309998\n",
      "Low          426.350006\n",
      "Close        430.940002\n",
      "Adj Close    430.940002\n",
      "Volume         30006100\n",
      "dtype: object\n",
      " \n",
      "Minimum share price for year 2019:\n",
      "Date         2019-01-02\n",
      "Open         181.100006\n",
      "High         186.679993\n",
      "Low          176.990005\n",
      "Close        178.970001\n",
      "Adj Close    178.970001\n",
      "Volume          2465600\n",
      "dtype: object\n",
      " \n",
      "Maximum share price for year 2020:\n",
      "Date         2020-02-03\n",
      "Open         673.690002\n",
      "High         786.140015\n",
      "Low           673.52002\n",
      "Close             780.0\n",
      "Adj Close         780.0\n",
      "Volume         47065000\n",
      "dtype: object\n",
      " \n",
      "Minimum share price for year 2020:\n",
      "Date         2020-01-02\n",
      "Open              424.5\n",
      "High         430.700012\n",
      "Low          421.709991\n",
      "Close         430.26001\n",
      "Adj Close     430.26001\n",
      "Volume          9532100\n",
      "dtype: object\n",
      " \n"
     ]
    }
   ],
   "source": [
    "year = ['2010','2011','2012','2013','2014','2015','2016','2017','2018','2019','2020']\n",
    "\n",
    "for i in year:\n",
    "    price = stock_data[stock_data['Date'].apply(lambda x:x.split('-')[0] == i)]\n",
    "    print(f\"Maximum share price for year {i}:\")\n",
    "    print(price.max())\n",
    "    print(\" \")\n",
    "    \n",
    "    price = stock_data[stock_data['Date'].apply(lambda x:x.split('-')[0] == i)]\n",
    "    print(f\"Minimum share price for year {i}:\")\n",
    "    print(price.min())\n",
    "    print(\" \")"
   ]
  },
  {
   "cell_type": "code",
   "execution_count": 24,
   "id": "e628b328",
   "metadata": {},
   "outputs": [
    {
     "data": {
      "text/plain": [
       "<AxesSubplot:xlabel='Date'>"
      ]
     },
     "execution_count": 24,
     "metadata": {},
     "output_type": "execute_result"
    },
    {
     "data": {
      "image/png": "[encoded data removed]",
      "text/plain": [
       "<Figure size 720x288 with 1 Axes>"
      ]
     },
     "metadata": {
      "needs_background": "light"
     },
     "output_type": "display_data"
    },
    {
     "data": {
      "image/png": "[encoded data removed]",
      "text/plain": [
       "<Figure size 720x288 with 1 Axes>"
      ]
     },
     "metadata": {
      "needs_background": "light"
     },
     "output_type": "display_data"
    },
    {
     "data": {
      "image/png": "[encoded data removed]",
      "text/plain": [
       "<Figure size 720x288 with 1 Axes>"
      ]
     },
     "metadata": {
      "needs_background": "light"
     },
     "output_type": "display_data"
    },
    {
     "data": {
      "image/png": "[encoded data removed]",
      "text/plain": [
       "<Figure size 720x288 with 1 Axes>"
      ]
     },
     "metadata": {
      "needs_background": "light"
     },
     "output_type": "display_data"
    }
   ],
   "source": [
    "stock_data.plot(x='Date',y='Open',figsize=(10,4))\n",
    "stock_data.plot(x='Date',y='Close',figsize=(10,4),color = 'r')\n",
    "stock_data.plot(x='Date',y='High',figsize=(10,4),color = 'g')\n",
    "stock_data.plot(x='Date',y='Low',figsize=(10,4),color = 'y')"
   ]
  },
  {
   "cell_type": "markdown",
   "id": "408c4485",
   "metadata": {},
   "source": [
    "**In the above graphs we can see the prices of share increases as year passes.**"
   ]
  },
  {
   "cell_type": "markdown",
   "id": "c1e6859f",
   "metadata": {},
   "source": [
    "## Dropping the irrelevant columns:\n",
    "\n",
    "* Columns that are not being used for further analysis, then we can drop them."
   ]
  },
  {
   "cell_type": "code",
   "execution_count": 25,
   "id": "b39ac62a",
   "metadata": {},
   "outputs": [
    {
     "data": {
      "text/html": [
       "<div>\n",
       "<style scoped>\n",
       "    .dataframe tbody tr th:only-of-type {\n",
       "        vertical-align: middle;\n",
       "    }\n",
       "\n",
       "    .dataframe tbody tr th {\n",
       "        vertical-align: top;\n",
       "    }\n",
       "\n",
       "    .dataframe thead th {\n",
       "        text-align: right;\n",
       "    }\n",
       "</style>\n",
       "<table border=\"1\" class=\"dataframe\">\n",
       "  <thead>\n",
       "    <tr style=\"text-align: right;\">\n",
       "      <th></th>\n",
       "      <th>Date</th>\n",
       "      <th>Open</th>\n",
       "      <th>High</th>\n",
       "      <th>Low</th>\n",
       "      <th>Close</th>\n",
       "      <th>Adj Close</th>\n",
       "      <th>Volume</th>\n",
       "    </tr>\n",
       "  </thead>\n",
       "  <tbody>\n",
       "    <tr>\n",
       "      <th>0</th>\n",
       "      <td>2010-06-29</td>\n",
       "      <td>19.000000</td>\n",
       "      <td>25.00</td>\n",
       "      <td>17.540001</td>\n",
       "      <td>23.889999</td>\n",
       "      <td>23.889999</td>\n",
       "      <td>18766300</td>\n",
       "    </tr>\n",
       "    <tr>\n",
       "      <th>1</th>\n",
       "      <td>2010-06-30</td>\n",
       "      <td>25.790001</td>\n",
       "      <td>30.42</td>\n",
       "      <td>23.299999</td>\n",
       "      <td>23.830000</td>\n",
       "      <td>23.830000</td>\n",
       "      <td>17187100</td>\n",
       "    </tr>\n",
       "    <tr>\n",
       "      <th>2</th>\n",
       "      <td>2010-07-01</td>\n",
       "      <td>25.000000</td>\n",
       "      <td>25.92</td>\n",
       "      <td>20.270000</td>\n",
       "      <td>21.959999</td>\n",
       "      <td>21.959999</td>\n",
       "      <td>8218800</td>\n",
       "    </tr>\n",
       "    <tr>\n",
       "      <th>3</th>\n",
       "      <td>2010-07-02</td>\n",
       "      <td>23.000000</td>\n",
       "      <td>23.10</td>\n",
       "      <td>18.709999</td>\n",
       "      <td>19.200001</td>\n",
       "      <td>19.200001</td>\n",
       "      <td>5139800</td>\n",
       "    </tr>\n",
       "    <tr>\n",
       "      <th>4</th>\n",
       "      <td>2010-07-06</td>\n",
       "      <td>20.000000</td>\n",
       "      <td>20.00</td>\n",
       "      <td>15.830000</td>\n",
       "      <td>16.110001</td>\n",
       "      <td>16.110001</td>\n",
       "      <td>6866900</td>\n",
       "    </tr>\n",
       "  </tbody>\n",
       "</table>\n",
       "</div>"
      ],
      "text/plain": [
       "         Date       Open   High        Low      Close  Adj Close    Volume\n",
       "0  2010-06-29  19.000000  25.00  17.540001  23.889999  23.889999  18766300\n",
       "1  2010-06-30  25.790001  30.42  23.299999  23.830000  23.830000  17187100\n",
       "2  2010-07-01  25.000000  25.92  20.270000  21.959999  21.959999   8218800\n",
       "3  2010-07-02  23.000000  23.10  18.709999  19.200001  19.200001   5139800\n",
       "4  2010-07-06  20.000000  20.00  15.830000  16.110001  16.110001   6866900"
      ]
     },
     "execution_count": 25,
     "metadata": {},
     "output_type": "execute_result"
    }
   ],
   "source": [
    "stock_data.head()"
   ]
  },
  {
   "cell_type": "markdown",
   "id": "f9c7fb4b",
   "metadata": {},
   "source": [
    "* In our data we can see that \"Close\" and \"Adj Close\" both the columns is having same values. So no need to keep \"Adj Close\" column, then we can drop it."
   ]
  },
  {
   "cell_type": "code",
   "execution_count": 26,
   "id": "99b22e1c",
   "metadata": {},
   "outputs": [
    {
     "data": {
      "text/html": [
       "<div>\n",
       "<style scoped>\n",
       "    .dataframe tbody tr th:only-of-type {\n",
       "        vertical-align: middle;\n",
       "    }\n",
       "\n",
       "    .dataframe tbody tr th {\n",
       "        vertical-align: top;\n",
       "    }\n",
       "\n",
       "    .dataframe thead th {\n",
       "        text-align: right;\n",
       "    }\n",
       "</style>\n",
       "<table border=\"1\" class=\"dataframe\">\n",
       "  <thead>\n",
       "    <tr style=\"text-align: right;\">\n",
       "      <th></th>\n",
       "      <th>Date</th>\n",
       "      <th>Open</th>\n",
       "      <th>High</th>\n",
       "      <th>Low</th>\n",
       "      <th>Close</th>\n",
       "      <th>Volume</th>\n",
       "    </tr>\n",
       "  </thead>\n",
       "  <tbody>\n",
       "    <tr>\n",
       "      <th>0</th>\n",
       "      <td>2010-06-29</td>\n",
       "      <td>19.000000</td>\n",
       "      <td>25.000000</td>\n",
       "      <td>17.540001</td>\n",
       "      <td>23.889999</td>\n",
       "      <td>18766300</td>\n",
       "    </tr>\n",
       "    <tr>\n",
       "      <th>1</th>\n",
       "      <td>2010-06-30</td>\n",
       "      <td>25.790001</td>\n",
       "      <td>30.420000</td>\n",
       "      <td>23.299999</td>\n",
       "      <td>23.830000</td>\n",
       "      <td>17187100</td>\n",
       "    </tr>\n",
       "    <tr>\n",
       "      <th>2</th>\n",
       "      <td>2010-07-01</td>\n",
       "      <td>25.000000</td>\n",
       "      <td>25.920000</td>\n",
       "      <td>20.270000</td>\n",
       "      <td>21.959999</td>\n",
       "      <td>8218800</td>\n",
       "    </tr>\n",
       "    <tr>\n",
       "      <th>3</th>\n",
       "      <td>2010-07-02</td>\n",
       "      <td>23.000000</td>\n",
       "      <td>23.100000</td>\n",
       "      <td>18.709999</td>\n",
       "      <td>19.200001</td>\n",
       "      <td>5139800</td>\n",
       "    </tr>\n",
       "    <tr>\n",
       "      <th>4</th>\n",
       "      <td>2010-07-06</td>\n",
       "      <td>20.000000</td>\n",
       "      <td>20.000000</td>\n",
       "      <td>15.830000</td>\n",
       "      <td>16.110001</td>\n",
       "      <td>6866900</td>\n",
       "    </tr>\n",
       "    <tr>\n",
       "      <th>...</th>\n",
       "      <td>...</td>\n",
       "      <td>...</td>\n",
       "      <td>...</td>\n",
       "      <td>...</td>\n",
       "      <td>...</td>\n",
       "      <td>...</td>\n",
       "    </tr>\n",
       "    <tr>\n",
       "      <th>2411</th>\n",
       "      <td>2020-01-28</td>\n",
       "      <td>568.489990</td>\n",
       "      <td>576.809998</td>\n",
       "      <td>558.080017</td>\n",
       "      <td>566.900024</td>\n",
       "      <td>11788500</td>\n",
       "    </tr>\n",
       "    <tr>\n",
       "      <th>2412</th>\n",
       "      <td>2020-01-29</td>\n",
       "      <td>575.690002</td>\n",
       "      <td>589.799988</td>\n",
       "      <td>567.429993</td>\n",
       "      <td>580.989990</td>\n",
       "      <td>17801500</td>\n",
       "    </tr>\n",
       "    <tr>\n",
       "      <th>2413</th>\n",
       "      <td>2020-01-30</td>\n",
       "      <td>632.419983</td>\n",
       "      <td>650.880005</td>\n",
       "      <td>618.000000</td>\n",
       "      <td>640.809998</td>\n",
       "      <td>29005700</td>\n",
       "    </tr>\n",
       "    <tr>\n",
       "      <th>2414</th>\n",
       "      <td>2020-01-31</td>\n",
       "      <td>640.000000</td>\n",
       "      <td>653.000000</td>\n",
       "      <td>632.520020</td>\n",
       "      <td>650.570007</td>\n",
       "      <td>15719300</td>\n",
       "    </tr>\n",
       "    <tr>\n",
       "      <th>2415</th>\n",
       "      <td>2020-02-03</td>\n",
       "      <td>673.690002</td>\n",
       "      <td>786.140015</td>\n",
       "      <td>673.520020</td>\n",
       "      <td>780.000000</td>\n",
       "      <td>47065000</td>\n",
       "    </tr>\n",
       "  </tbody>\n",
       "</table>\n",
       "<p>2416 rows × 6 columns</p>\n",
       "</div>"
      ],
      "text/plain": [
       "            Date        Open        High         Low       Close    Volume\n",
       "0     2010-06-29   19.000000   25.000000   17.540001   23.889999  18766300\n",
       "1     2010-06-30   25.790001   30.420000   23.299999   23.830000  17187100\n",
       "2     2010-07-01   25.000000   25.920000   20.270000   21.959999   8218800\n",
       "3     2010-07-02   23.000000   23.100000   18.709999   19.200001   5139800\n",
       "4     2010-07-06   20.000000   20.000000   15.830000   16.110001   6866900\n",
       "...          ...         ...         ...         ...         ...       ...\n",
       "2411  2020-01-28  568.489990  576.809998  558.080017  566.900024  11788500\n",
       "2412  2020-01-29  575.690002  589.799988  567.429993  580.989990  17801500\n",
       "2413  2020-01-30  632.419983  650.880005  618.000000  640.809998  29005700\n",
       "2414  2020-01-31  640.000000  653.000000  632.520020  650.570007  15719300\n",
       "2415  2020-02-03  673.690002  786.140015  673.520020  780.000000  47065000\n",
       "\n",
       "[2416 rows x 6 columns]"
      ]
     },
     "execution_count": 26,
     "metadata": {},
     "output_type": "execute_result"
    }
   ],
   "source": [
    "stock_data.drop('Adj Close', axis = 1, inplace = True)\n",
    "\n",
    "stock_data"
   ]
  },
  {
   "cell_type": "markdown",
   "id": "5126a408",
   "metadata": {},
   "source": [
    "## Checking the duplicate records in the dataset:"
   ]
  },
  {
   "cell_type": "code",
   "execution_count": 27,
   "id": "57233b79",
   "metadata": {},
   "outputs": [
    {
     "data": {
      "text/html": [
       "<div>\n",
       "<style scoped>\n",
       "    .dataframe tbody tr th:only-of-type {\n",
       "        vertical-align: middle;\n",
       "    }\n",
       "\n",
       "    .dataframe tbody tr th {\n",
       "        vertical-align: top;\n",
       "    }\n",
       "\n",
       "    .dataframe thead th {\n",
       "        text-align: right;\n",
       "    }\n",
       "</style>\n",
       "<table border=\"1\" class=\"dataframe\">\n",
       "  <thead>\n",
       "    <tr style=\"text-align: right;\">\n",
       "      <th></th>\n",
       "      <th>Date</th>\n",
       "      <th>Open</th>\n",
       "      <th>High</th>\n",
       "      <th>Low</th>\n",
       "      <th>Close</th>\n",
       "      <th>Volume</th>\n",
       "    </tr>\n",
       "  </thead>\n",
       "  <tbody>\n",
       "  </tbody>\n",
       "</table>\n",
       "</div>"
      ],
      "text/plain": [
       "Empty DataFrame\n",
       "Columns: [Date, Open, High, Low, Close, Volume]\n",
       "Index: []"
      ]
     },
     "execution_count": 27,
     "metadata": {},
     "output_type": "execute_result"
    }
   ],
   "source": [
    "duplicate_data = stock_data[stock_data.duplicated()]\n",
    "\n",
    "duplicate_data"
   ]
  },
  {
   "cell_type": "markdown",
   "id": "7892e6df",
   "metadata": {},
   "source": [
    "* Here we can see that, the dataset does not contain any duplicate values. \n",
    "\n",
    "\n",
    "* If there are duplicate data in our dataset in large amount, then we can remove it."
   ]
  },
  {
   "cell_type": "markdown",
   "id": "e737a41f",
   "metadata": {},
   "source": [
    "##  Handling missing values:\n",
    "\n",
    "* Checking the count of NULL values if present in the dataset."
   ]
  },
  {
   "cell_type": "code",
   "execution_count": 28,
   "id": "ac15c055",
   "metadata": {},
   "outputs": [
    {
     "data": {
      "text/plain": [
       "Date      0\n",
       "Open      0\n",
       "High      0\n",
       "Low       0\n",
       "Close     0\n",
       "Volume    0\n",
       "dtype: int64"
      ]
     },
     "execution_count": 28,
     "metadata": {},
     "output_type": "execute_result"
    }
   ],
   "source": [
    "stock_data.isnull().sum()      # isnull() is used to check whether NULL values present in the dataset or not."
   ]
  },
  {
   "cell_type": "markdown",
   "id": "c52b97ac",
   "metadata": {},
   "source": [
    "* Our dataset does not contain any NULL value, if it will be there then we need to handle it."
   ]
  },
  {
   "cell_type": "markdown",
   "id": "1da53058",
   "metadata": {},
   "source": [
    "## Handling the Outliers if exists in dataset:\n",
    "\n",
    "* We can use boxplot to check the outliers of the columns."
   ]
  },
  {
   "cell_type": "code",
   "execution_count": 29,
   "id": "cfb9c02a",
   "metadata": {},
   "outputs": [
    {
     "data": {
      "text/html": [
       "<div>\n",
       "<style scoped>\n",
       "    .dataframe tbody tr th:only-of-type {\n",
       "        vertical-align: middle;\n",
       "    }\n",
       "\n",
       "    .dataframe tbody tr th {\n",
       "        vertical-align: top;\n",
       "    }\n",
       "\n",
       "    .dataframe thead th {\n",
       "        text-align: right;\n",
       "    }\n",
       "</style>\n",
       "<table border=\"1\" class=\"dataframe\">\n",
       "  <thead>\n",
       "    <tr style=\"text-align: right;\">\n",
       "      <th></th>\n",
       "      <th>Date</th>\n",
       "      <th>Open</th>\n",
       "      <th>High</th>\n",
       "      <th>Low</th>\n",
       "      <th>Close</th>\n",
       "      <th>Volume</th>\n",
       "    </tr>\n",
       "  </thead>\n",
       "  <tbody>\n",
       "    <tr>\n",
       "      <th>0</th>\n",
       "      <td>2010-06-29</td>\n",
       "      <td>19.000000</td>\n",
       "      <td>25.00</td>\n",
       "      <td>17.540001</td>\n",
       "      <td>23.889999</td>\n",
       "      <td>18766300</td>\n",
       "    </tr>\n",
       "    <tr>\n",
       "      <th>1</th>\n",
       "      <td>2010-06-30</td>\n",
       "      <td>25.790001</td>\n",
       "      <td>30.42</td>\n",
       "      <td>23.299999</td>\n",
       "      <td>23.830000</td>\n",
       "      <td>17187100</td>\n",
       "    </tr>\n",
       "    <tr>\n",
       "      <th>2</th>\n",
       "      <td>2010-07-01</td>\n",
       "      <td>25.000000</td>\n",
       "      <td>25.92</td>\n",
       "      <td>20.270000</td>\n",
       "      <td>21.959999</td>\n",
       "      <td>8218800</td>\n",
       "    </tr>\n",
       "    <tr>\n",
       "      <th>3</th>\n",
       "      <td>2010-07-02</td>\n",
       "      <td>23.000000</td>\n",
       "      <td>23.10</td>\n",
       "      <td>18.709999</td>\n",
       "      <td>19.200001</td>\n",
       "      <td>5139800</td>\n",
       "    </tr>\n",
       "    <tr>\n",
       "      <th>4</th>\n",
       "      <td>2010-07-06</td>\n",
       "      <td>20.000000</td>\n",
       "      <td>20.00</td>\n",
       "      <td>15.830000</td>\n",
       "      <td>16.110001</td>\n",
       "      <td>6866900</td>\n",
       "    </tr>\n",
       "  </tbody>\n",
       "</table>\n",
       "</div>"
      ],
      "text/plain": [
       "         Date       Open   High        Low      Close    Volume\n",
       "0  2010-06-29  19.000000  25.00  17.540001  23.889999  18766300\n",
       "1  2010-06-30  25.790001  30.42  23.299999  23.830000  17187100\n",
       "2  2010-07-01  25.000000  25.92  20.270000  21.959999   8218800\n",
       "3  2010-07-02  23.000000  23.10  18.709999  19.200001   5139800\n",
       "4  2010-07-06  20.000000  20.00  15.830000  16.110001   6866900"
      ]
     },
     "execution_count": 29,
     "metadata": {},
     "output_type": "execute_result"
    }
   ],
   "source": [
    "stock_data.head()"
   ]
  },
  {
   "cell_type": "markdown",
   "id": "64e6384f",
   "metadata": {},
   "source": [
    "#### We need to check 5 Number Summary for each column which includes:\n",
    "1. min (minimum value of data)\n",
    "2. 25% of data\n",
    "3. median (50%) (mid value of data)\n",
    "4. 75% of data\n",
    "5. max (maximum value of data)"
   ]
  },
  {
   "cell_type": "code",
   "execution_count": 30,
   "id": "a7eda5b5",
   "metadata": {},
   "outputs": [
    {
     "data": {
      "text/plain": [
       "<AxesSubplot:xlabel='Open'>"
      ]
     },
     "execution_count": 30,
     "metadata": {},
     "output_type": "execute_result"
    },
    {
     "data": {
      "image/png": "[encoded data removed]",
      "text/plain": [
       "<Figure size 432x288 with 1 Axes>"
      ]
     },
     "metadata": {
      "needs_background": "light"
     },
     "output_type": "display_data"
    }
   ],
   "source": [
    "# Detecting outliers\n",
    "\n",
    "sns.boxplot(stock_data['Open'])    # For \"Open\" column"
   ]
  },
  {
   "cell_type": "code",
   "execution_count": 31,
   "id": "9cdd4692",
   "metadata": {},
   "outputs": [
    {
     "name": "stdout",
     "output_type": "stream",
     "text": [
      "Minimum value for 'Open' column is: 16.139999\n",
      "25% (Q1) value for 'Open' column is: 34.3424985\n",
      "Median value for 'Open' is: 213.03500350000002\n",
      "75%(Q3) value for 'Open' is: 266.450012\n",
      "Maximum value for 'Open' is: 673.690002\n"
     ]
    }
   ],
   "source": [
    "print(f\"Minimum value for 'Open' column is: {stock_data['Open'].min()}\")\n",
    "\n",
    "print(f\"25% (Q1) value for 'Open' column is: {stock_data['Open'].quantile(0.25)}\")\n",
    "\n",
    "print(f\"Median value for 'Open' is: {stock_data['Open'].median()}\")\n",
    "\n",
    "print(f\"75%(Q3) value for 'Open' is: {stock_data['Open'].quantile(0.75)}\")\n",
    "\n",
    "print(f\"Maximum value for 'Open' is: {stock_data['Open'].max()}\")"
   ]
  },
  {
   "cell_type": "markdown",
   "id": "acf3c4f2",
   "metadata": {},
   "source": [
    "#### Finding IQR (Inter Quartile Range) i.e Q3(75% of your data) - Q1(25% of your data)\n",
    "\n",
    "* The interquartile range (IQR) measures the spread of the middle half of your data that means the middle 50% of a data set.\n",
    "\n",
    "\n",
    "* The difference between the upper and lower quartile is known as the interquartile range formula. The Interquartile Range formula finds the difference between the two extreme observations or data points of the distribution."
   ]
  },
  {
   "cell_type": "code",
   "execution_count": 32,
   "id": "1cc8eaca",
   "metadata": {},
   "outputs": [
    {
     "name": "stdout",
     "output_type": "stream",
     "text": [
      "Q1: 34.3424985\n",
      "Q3: 266.450012\n",
      "IQR: 232.1075135\n"
     ]
    }
   ],
   "source": [
    "Q1 = stock_data['Open'].quantile(0.25)\n",
    "print(f\"Q1: {Q1}\")\n",
    "Q3 = stock_data['Open'].quantile(0.75)\n",
    "print(f\"Q3: {Q3}\")\n",
    "IQR = Q3 - Q1         \n",
    "print(f\"IQR: {IQR}\")"
   ]
  },
  {
   "cell_type": "markdown",
   "id": "9791c52a",
   "metadata": {},
   "source": [
    "#### Finding the Lower and Higher limit for 'Open' column:"
   ]
  },
  {
   "cell_type": "code",
   "execution_count": 33,
   "id": "a7d58ce1",
   "metadata": {},
   "outputs": [
    {
     "name": "stdout",
     "output_type": "stream",
     "text": [
      "Lower limit of 'Open' is : -313.81877175000005\n",
      "Higher limit of 'Open' is : 614.61128225\n"
     ]
    }
   ],
   "source": [
    "# [Lower limit...........Higher limit]\n",
    "\n",
    "# Lower limit = Q1 - 1.5 * IQR\n",
    "# Higher limit = Q3 + 1.5 * IQR\n",
    "\n",
    "Lower_limit = Q1 - 1.5 * IQR\n",
    "print(f\"Lower limit of 'Open' is : {Lower_limit}\")\n",
    "\n",
    "Higher_limit = Q3 + 1.5 * IQR\n",
    "print(f\"Higher limit of 'Open' is : {Higher_limit}\")"
   ]
  },
  {
   "cell_type": "code",
   "execution_count": 34,
   "id": "88d64843",
   "metadata": {},
   "outputs": [
    {
     "data": {
      "text/html": [
       "<div>\n",
       "<style scoped>\n",
       "    .dataframe tbody tr th:only-of-type {\n",
       "        vertical-align: middle;\n",
       "    }\n",
       "\n",
       "    .dataframe tbody tr th {\n",
       "        vertical-align: top;\n",
       "    }\n",
       "\n",
       "    .dataframe thead th {\n",
       "        text-align: right;\n",
       "    }\n",
       "</style>\n",
       "<table border=\"1\" class=\"dataframe\">\n",
       "  <thead>\n",
       "    <tr style=\"text-align: right;\">\n",
       "      <th></th>\n",
       "      <th>Date</th>\n",
       "      <th>Open</th>\n",
       "      <th>High</th>\n",
       "      <th>Low</th>\n",
       "      <th>Close</th>\n",
       "      <th>Volume</th>\n",
       "    </tr>\n",
       "  </thead>\n",
       "  <tbody>\n",
       "    <tr>\n",
       "      <th>2413</th>\n",
       "      <td>2020-01-30</td>\n",
       "      <td>632.419983</td>\n",
       "      <td>650.880005</td>\n",
       "      <td>618.00000</td>\n",
       "      <td>640.809998</td>\n",
       "      <td>29005700</td>\n",
       "    </tr>\n",
       "    <tr>\n",
       "      <th>2414</th>\n",
       "      <td>2020-01-31</td>\n",
       "      <td>640.000000</td>\n",
       "      <td>653.000000</td>\n",
       "      <td>632.52002</td>\n",
       "      <td>650.570007</td>\n",
       "      <td>15719300</td>\n",
       "    </tr>\n",
       "    <tr>\n",
       "      <th>2415</th>\n",
       "      <td>2020-02-03</td>\n",
       "      <td>673.690002</td>\n",
       "      <td>786.140015</td>\n",
       "      <td>673.52002</td>\n",
       "      <td>780.000000</td>\n",
       "      <td>47065000</td>\n",
       "    </tr>\n",
       "  </tbody>\n",
       "</table>\n",
       "</div>"
      ],
      "text/plain": [
       "            Date        Open        High        Low       Close    Volume\n",
       "2413  2020-01-30  632.419983  650.880005  618.00000  640.809998  29005700\n",
       "2414  2020-01-31  640.000000  653.000000  632.52002  650.570007  15719300\n",
       "2415  2020-02-03  673.690002  786.140015  673.52002  780.000000  47065000"
      ]
     },
     "execution_count": 34,
     "metadata": {},
     "output_type": "execute_result"
    }
   ],
   "source": [
    "# Here we are finding the outliers for Open column which includes values less than Lower limit and greater than Higher limit.\n",
    "\n",
    "outliers = stock_data[(stock_data['Open'] < Lower_limit) | (stock_data['Open'] > Higher_limit)]\n",
    "outliers"
   ]
  },
  {
   "cell_type": "code",
   "execution_count": 35,
   "id": "bd799b43",
   "metadata": {},
   "outputs": [
    {
     "data": {
      "text/plain": [
       "3"
      ]
     },
     "execution_count": 35,
     "metadata": {},
     "output_type": "execute_result"
    }
   ],
   "source": [
    "len(outliers)         # len() gives us the no. of items present in an object. \n",
    "                      # Open column contains 3 outliers."
   ]
  },
  {
   "cell_type": "code",
   "execution_count": 36,
   "id": "1d2c7765",
   "metadata": {},
   "outputs": [
    {
     "data": {
      "text/html": [
       "<div>\n",
       "<style scoped>\n",
       "    .dataframe tbody tr th:only-of-type {\n",
       "        vertical-align: middle;\n",
       "    }\n",
       "\n",
       "    .dataframe tbody tr th {\n",
       "        vertical-align: top;\n",
       "    }\n",
       "\n",
       "    .dataframe thead th {\n",
       "        text-align: right;\n",
       "    }\n",
       "</style>\n",
       "<table border=\"1\" class=\"dataframe\">\n",
       "  <thead>\n",
       "    <tr style=\"text-align: right;\">\n",
       "      <th></th>\n",
       "      <th>Date</th>\n",
       "      <th>Open</th>\n",
       "      <th>High</th>\n",
       "      <th>Low</th>\n",
       "      <th>Close</th>\n",
       "      <th>Volume</th>\n",
       "    </tr>\n",
       "  </thead>\n",
       "  <tbody>\n",
       "    <tr>\n",
       "      <th>0</th>\n",
       "      <td>2010-06-29</td>\n",
       "      <td>19.000000</td>\n",
       "      <td>25.000000</td>\n",
       "      <td>17.540001</td>\n",
       "      <td>23.889999</td>\n",
       "      <td>18766300</td>\n",
       "    </tr>\n",
       "    <tr>\n",
       "      <th>1</th>\n",
       "      <td>2010-06-30</td>\n",
       "      <td>25.790001</td>\n",
       "      <td>30.420000</td>\n",
       "      <td>23.299999</td>\n",
       "      <td>23.830000</td>\n",
       "      <td>17187100</td>\n",
       "    </tr>\n",
       "    <tr>\n",
       "      <th>2</th>\n",
       "      <td>2010-07-01</td>\n",
       "      <td>25.000000</td>\n",
       "      <td>25.920000</td>\n",
       "      <td>20.270000</td>\n",
       "      <td>21.959999</td>\n",
       "      <td>8218800</td>\n",
       "    </tr>\n",
       "    <tr>\n",
       "      <th>3</th>\n",
       "      <td>2010-07-02</td>\n",
       "      <td>23.000000</td>\n",
       "      <td>23.100000</td>\n",
       "      <td>18.709999</td>\n",
       "      <td>19.200001</td>\n",
       "      <td>5139800</td>\n",
       "    </tr>\n",
       "    <tr>\n",
       "      <th>4</th>\n",
       "      <td>2010-07-06</td>\n",
       "      <td>20.000000</td>\n",
       "      <td>20.000000</td>\n",
       "      <td>15.830000</td>\n",
       "      <td>16.110001</td>\n",
       "      <td>6866900</td>\n",
       "    </tr>\n",
       "    <tr>\n",
       "      <th>...</th>\n",
       "      <td>...</td>\n",
       "      <td>...</td>\n",
       "      <td>...</td>\n",
       "      <td>...</td>\n",
       "      <td>...</td>\n",
       "      <td>...</td>\n",
       "    </tr>\n",
       "    <tr>\n",
       "      <th>2408</th>\n",
       "      <td>2020-01-23</td>\n",
       "      <td>564.250000</td>\n",
       "      <td>582.000000</td>\n",
       "      <td>555.599976</td>\n",
       "      <td>572.200012</td>\n",
       "      <td>19651000</td>\n",
       "    </tr>\n",
       "    <tr>\n",
       "      <th>2409</th>\n",
       "      <td>2020-01-24</td>\n",
       "      <td>570.630005</td>\n",
       "      <td>573.859985</td>\n",
       "      <td>554.260010</td>\n",
       "      <td>564.820007</td>\n",
       "      <td>14353600</td>\n",
       "    </tr>\n",
       "    <tr>\n",
       "      <th>2410</th>\n",
       "      <td>2020-01-27</td>\n",
       "      <td>541.989990</td>\n",
       "      <td>564.440002</td>\n",
       "      <td>539.280029</td>\n",
       "      <td>558.020020</td>\n",
       "      <td>13608100</td>\n",
       "    </tr>\n",
       "    <tr>\n",
       "      <th>2411</th>\n",
       "      <td>2020-01-28</td>\n",
       "      <td>568.489990</td>\n",
       "      <td>576.809998</td>\n",
       "      <td>558.080017</td>\n",
       "      <td>566.900024</td>\n",
       "      <td>11788500</td>\n",
       "    </tr>\n",
       "    <tr>\n",
       "      <th>2412</th>\n",
       "      <td>2020-01-29</td>\n",
       "      <td>575.690002</td>\n",
       "      <td>589.799988</td>\n",
       "      <td>567.429993</td>\n",
       "      <td>580.989990</td>\n",
       "      <td>17801500</td>\n",
       "    </tr>\n",
       "  </tbody>\n",
       "</table>\n",
       "<p>2413 rows × 6 columns</p>\n",
       "</div>"
      ],
      "text/plain": [
       "            Date        Open        High         Low       Close    Volume\n",
       "0     2010-06-29   19.000000   25.000000   17.540001   23.889999  18766300\n",
       "1     2010-06-30   25.790001   30.420000   23.299999   23.830000  17187100\n",
       "2     2010-07-01   25.000000   25.920000   20.270000   21.959999   8218800\n",
       "3     2010-07-02   23.000000   23.100000   18.709999   19.200001   5139800\n",
       "4     2010-07-06   20.000000   20.000000   15.830000   16.110001   6866900\n",
       "...          ...         ...         ...         ...         ...       ...\n",
       "2408  2020-01-23  564.250000  582.000000  555.599976  572.200012  19651000\n",
       "2409  2020-01-24  570.630005  573.859985  554.260010  564.820007  14353600\n",
       "2410  2020-01-27  541.989990  564.440002  539.280029  558.020020  13608100\n",
       "2411  2020-01-28  568.489990  576.809998  558.080017  566.900024  11788500\n",
       "2412  2020-01-29  575.690002  589.799988  567.429993  580.989990  17801500\n",
       "\n",
       "[2413 rows x 6 columns]"
      ]
     },
     "execution_count": 36,
     "metadata": {},
     "output_type": "execute_result"
    }
   ],
   "source": [
    "# Here we got the values except the outiers\n",
    "\n",
    "stock_data[(stock_data['Open'] > Lower_limit) & (stock_data['Open'] < Higher_limit)]"
   ]
  },
  {
   "cell_type": "code",
   "execution_count": 37,
   "id": "810a1a8e",
   "metadata": {
    "scrolled": true
   },
   "outputs": [
    {
     "data": {
      "text/plain": [
       "<AxesSubplot:xlabel='Close'>"
      ]
     },
     "execution_count": 37,
     "metadata": {},
     "output_type": "execute_result"
    },
    {
     "data": {
      "image/png": "[encoded data removed]",
      "text/plain": [
       "<Figure size 432x288 with 1 Axes>"
      ]
     },
     "metadata": {
      "needs_background": "light"
     },
     "output_type": "display_data"
    }
   ],
   "source": [
    "sns.boxplot(stock_data['Close'])    # For \"Close\" column"
   ]
  },
  {
   "cell_type": "code",
   "execution_count": 38,
   "id": "af24b1a9",
   "metadata": {},
   "outputs": [
    {
     "name": "stdout",
     "output_type": "stream",
     "text": [
      "Minimum value for 'Close' column is: 15.8\n",
      "25% (Q1) value for 'Close' column is: 34.400002\n",
      "Median value for 'Close' is: 212.960007\n",
      "75%(Q3) value for 'Close' is: 266.774994\n",
      "Maximum value for 'Close' is: 780.0\n"
     ]
    }
   ],
   "source": [
    "print(f\"Minimum value for 'Close' column is: {stock_data['Close'].min()}\")\n",
    "\n",
    "print(f\"25% (Q1) value for 'Close' column is: {stock_data['Close'].quantile(0.25)}\")\n",
    "\n",
    "print(f\"Median value for 'Close' is: {stock_data['Close'].median()}\")\n",
    "\n",
    "print(f\"75%(Q3) value for 'Close' is: {stock_data['Close'].quantile(0.75)}\")\n",
    "\n",
    "print(f\"Maximum value for 'Close' is: {stock_data['Close'].max()}\")"
   ]
  },
  {
   "cell_type": "markdown",
   "id": "19b0f4ad",
   "metadata": {},
   "source": [
    "#### Finding IQR (Inter Quartile Range) i.e Q3(75% of your data) - Q1(25% of your data)"
   ]
  },
  {
   "cell_type": "code",
   "execution_count": 39,
   "id": "5b7448cd",
   "metadata": {},
   "outputs": [
    {
     "name": "stdout",
     "output_type": "stream",
     "text": [
      "Q1: 34.400002\n",
      "Q3: 266.774994\n",
      "IQR: 232.374992\n"
     ]
    }
   ],
   "source": [
    "Q1 = stock_data['Close'].quantile(0.25)\n",
    "print(f\"Q1: {Q1}\")\n",
    "Q3 = stock_data['Close'].quantile(0.75)\n",
    "print(f\"Q3: {Q3}\")\n",
    "IQR = Q3 - Q1         \n",
    "print(f\"IQR: {IQR}\")"
   ]
  },
  {
   "cell_type": "markdown",
   "id": "4d86bb18",
   "metadata": {},
   "source": [
    "#### Finding the Lower and Higher limit for 'Close' column:"
   ]
  },
  {
   "cell_type": "code",
   "execution_count": 40,
   "id": "a4dd53ab",
   "metadata": {},
   "outputs": [
    {
     "name": "stdout",
     "output_type": "stream",
     "text": [
      "Lower limit of 'Close' is : -314.16248599999994\n",
      "Higher limit of 'Close' is : 615.3374819999999\n"
     ]
    }
   ],
   "source": [
    "Lower_limit = Q1 - 1.5 * IQR\n",
    "print(f\"Lower limit of 'Close' is : {Lower_limit}\")\n",
    "\n",
    "Higher_limit = Q3 + 1.5 * IQR\n",
    "print(f\"Higher limit of 'Close' is : {Higher_limit}\")"
   ]
  },
  {
   "cell_type": "code",
   "execution_count": 41,
   "id": "97bbed38",
   "metadata": {},
   "outputs": [
    {
     "data": {
      "text/html": [
       "<div>\n",
       "<style scoped>\n",
       "    .dataframe tbody tr th:only-of-type {\n",
       "        vertical-align: middle;\n",
       "    }\n",
       "\n",
       "    .dataframe tbody tr th {\n",
       "        vertical-align: top;\n",
       "    }\n",
       "\n",
       "    .dataframe thead th {\n",
       "        text-align: right;\n",
       "    }\n",
       "</style>\n",
       "<table border=\"1\" class=\"dataframe\">\n",
       "  <thead>\n",
       "    <tr style=\"text-align: right;\">\n",
       "      <th></th>\n",
       "      <th>Date</th>\n",
       "      <th>Open</th>\n",
       "      <th>High</th>\n",
       "      <th>Low</th>\n",
       "      <th>Close</th>\n",
       "      <th>Volume</th>\n",
       "    </tr>\n",
       "  </thead>\n",
       "  <tbody>\n",
       "    <tr>\n",
       "      <th>2413</th>\n",
       "      <td>2020-01-30</td>\n",
       "      <td>632.419983</td>\n",
       "      <td>650.880005</td>\n",
       "      <td>618.00000</td>\n",
       "      <td>640.809998</td>\n",
       "      <td>29005700</td>\n",
       "    </tr>\n",
       "    <tr>\n",
       "      <th>2414</th>\n",
       "      <td>2020-01-31</td>\n",
       "      <td>640.000000</td>\n",
       "      <td>653.000000</td>\n",
       "      <td>632.52002</td>\n",
       "      <td>650.570007</td>\n",
       "      <td>15719300</td>\n",
       "    </tr>\n",
       "    <tr>\n",
       "      <th>2415</th>\n",
       "      <td>2020-02-03</td>\n",
       "      <td>673.690002</td>\n",
       "      <td>786.140015</td>\n",
       "      <td>673.52002</td>\n",
       "      <td>780.000000</td>\n",
       "      <td>47065000</td>\n",
       "    </tr>\n",
       "  </tbody>\n",
       "</table>\n",
       "</div>"
      ],
      "text/plain": [
       "            Date        Open        High        Low       Close    Volume\n",
       "2413  2020-01-30  632.419983  650.880005  618.00000  640.809998  29005700\n",
       "2414  2020-01-31  640.000000  653.000000  632.52002  650.570007  15719300\n",
       "2415  2020-02-03  673.690002  786.140015  673.52002  780.000000  47065000"
      ]
     },
     "execution_count": 41,
     "metadata": {},
     "output_type": "execute_result"
    }
   ],
   "source": [
    "# Here we are finding the outliers for Close column which includes values less than Lower limit and greater than Higher limit.\n",
    "\n",
    "outliers = stock_data[(stock_data['Close'] < Lower_limit) | (stock_data['Close'] > Higher_limit)]\n",
    "outliers"
   ]
  },
  {
   "cell_type": "code",
   "execution_count": 42,
   "id": "7288de9f",
   "metadata": {},
   "outputs": [
    {
     "data": {
      "text/plain": [
       "3"
      ]
     },
     "execution_count": 42,
     "metadata": {},
     "output_type": "execute_result"
    }
   ],
   "source": [
    "len(outliers)"
   ]
  },
  {
   "cell_type": "code",
   "execution_count": 43,
   "id": "a90ec50f",
   "metadata": {},
   "outputs": [
    {
     "data": {
      "text/html": [
       "<div>\n",
       "<style scoped>\n",
       "    .dataframe tbody tr th:only-of-type {\n",
       "        vertical-align: middle;\n",
       "    }\n",
       "\n",
       "    .dataframe tbody tr th {\n",
       "        vertical-align: top;\n",
       "    }\n",
       "\n",
       "    .dataframe thead th {\n",
       "        text-align: right;\n",
       "    }\n",
       "</style>\n",
       "<table border=\"1\" class=\"dataframe\">\n",
       "  <thead>\n",
       "    <tr style=\"text-align: right;\">\n",
       "      <th></th>\n",
       "      <th>Date</th>\n",
       "      <th>Open</th>\n",
       "      <th>High</th>\n",
       "      <th>Low</th>\n",
       "      <th>Close</th>\n",
       "      <th>Volume</th>\n",
       "    </tr>\n",
       "  </thead>\n",
       "  <tbody>\n",
       "    <tr>\n",
       "      <th>0</th>\n",
       "      <td>2010-06-29</td>\n",
       "      <td>19.000000</td>\n",
       "      <td>25.000000</td>\n",
       "      <td>17.540001</td>\n",
       "      <td>23.889999</td>\n",
       "      <td>18766300</td>\n",
       "    </tr>\n",
       "    <tr>\n",
       "      <th>1</th>\n",
       "      <td>2010-06-30</td>\n",
       "      <td>25.790001</td>\n",
       "      <td>30.420000</td>\n",
       "      <td>23.299999</td>\n",
       "      <td>23.830000</td>\n",
       "      <td>17187100</td>\n",
       "    </tr>\n",
       "    <tr>\n",
       "      <th>2</th>\n",
       "      <td>2010-07-01</td>\n",
       "      <td>25.000000</td>\n",
       "      <td>25.920000</td>\n",
       "      <td>20.270000</td>\n",
       "      <td>21.959999</td>\n",
       "      <td>8218800</td>\n",
       "    </tr>\n",
       "    <tr>\n",
       "      <th>3</th>\n",
       "      <td>2010-07-02</td>\n",
       "      <td>23.000000</td>\n",
       "      <td>23.100000</td>\n",
       "      <td>18.709999</td>\n",
       "      <td>19.200001</td>\n",
       "      <td>5139800</td>\n",
       "    </tr>\n",
       "    <tr>\n",
       "      <th>4</th>\n",
       "      <td>2010-07-06</td>\n",
       "      <td>20.000000</td>\n",
       "      <td>20.000000</td>\n",
       "      <td>15.830000</td>\n",
       "      <td>16.110001</td>\n",
       "      <td>6866900</td>\n",
       "    </tr>\n",
       "    <tr>\n",
       "      <th>...</th>\n",
       "      <td>...</td>\n",
       "      <td>...</td>\n",
       "      <td>...</td>\n",
       "      <td>...</td>\n",
       "      <td>...</td>\n",
       "      <td>...</td>\n",
       "    </tr>\n",
       "    <tr>\n",
       "      <th>2408</th>\n",
       "      <td>2020-01-23</td>\n",
       "      <td>564.250000</td>\n",
       "      <td>582.000000</td>\n",
       "      <td>555.599976</td>\n",
       "      <td>572.200012</td>\n",
       "      <td>19651000</td>\n",
       "    </tr>\n",
       "    <tr>\n",
       "      <th>2409</th>\n",
       "      <td>2020-01-24</td>\n",
       "      <td>570.630005</td>\n",
       "      <td>573.859985</td>\n",
       "      <td>554.260010</td>\n",
       "      <td>564.820007</td>\n",
       "      <td>14353600</td>\n",
       "    </tr>\n",
       "    <tr>\n",
       "      <th>2410</th>\n",
       "      <td>2020-01-27</td>\n",
       "      <td>541.989990</td>\n",
       "      <td>564.440002</td>\n",
       "      <td>539.280029</td>\n",
       "      <td>558.020020</td>\n",
       "      <td>13608100</td>\n",
       "    </tr>\n",
       "    <tr>\n",
       "      <th>2411</th>\n",
       "      <td>2020-01-28</td>\n",
       "      <td>568.489990</td>\n",
       "      <td>576.809998</td>\n",
       "      <td>558.080017</td>\n",
       "      <td>566.900024</td>\n",
       "      <td>11788500</td>\n",
       "    </tr>\n",
       "    <tr>\n",
       "      <th>2412</th>\n",
       "      <td>2020-01-29</td>\n",
       "      <td>575.690002</td>\n",
       "      <td>589.799988</td>\n",
       "      <td>567.429993</td>\n",
       "      <td>580.989990</td>\n",
       "      <td>17801500</td>\n",
       "    </tr>\n",
       "  </tbody>\n",
       "</table>\n",
       "<p>2413 rows × 6 columns</p>\n",
       "</div>"
      ],
      "text/plain": [
       "            Date        Open        High         Low       Close    Volume\n",
       "0     2010-06-29   19.000000   25.000000   17.540001   23.889999  18766300\n",
       "1     2010-06-30   25.790001   30.420000   23.299999   23.830000  17187100\n",
       "2     2010-07-01   25.000000   25.920000   20.270000   21.959999   8218800\n",
       "3     2010-07-02   23.000000   23.100000   18.709999   19.200001   5139800\n",
       "4     2010-07-06   20.000000   20.000000   15.830000   16.110001   6866900\n",
       "...          ...         ...         ...         ...         ...       ...\n",
       "2408  2020-01-23  564.250000  582.000000  555.599976  572.200012  19651000\n",
       "2409  2020-01-24  570.630005  573.859985  554.260010  564.820007  14353600\n",
       "2410  2020-01-27  541.989990  564.440002  539.280029  558.020020  13608100\n",
       "2411  2020-01-28  568.489990  576.809998  558.080017  566.900024  11788500\n",
       "2412  2020-01-29  575.690002  589.799988  567.429993  580.989990  17801500\n",
       "\n",
       "[2413 rows x 6 columns]"
      ]
     },
     "execution_count": 43,
     "metadata": {},
     "output_type": "execute_result"
    }
   ],
   "source": [
    "# Here we got the values except the outiers\n",
    "\n",
    "stock_data[(stock_data['Close'] > Lower_limit) & (stock_data['Close'] < Higher_limit)]"
   ]
  },
  {
   "cell_type": "code",
   "execution_count": 44,
   "id": "ebf7300d",
   "metadata": {},
   "outputs": [
    {
     "data": {
      "text/plain": [
       "<AxesSubplot:xlabel='High'>"
      ]
     },
     "execution_count": 44,
     "metadata": {},
     "output_type": "execute_result"
    },
    {
     "data": {
      "image/png": "[encoded data removed]",
      "text/plain": [
       "<Figure size 432x288 with 1 Axes>"
      ]
     },
     "metadata": {
      "needs_background": "light"
     },
     "output_type": "display_data"
    }
   ],
   "source": [
    "sns.boxplot(stock_data['High'])    # For \"High\" column"
   ]
  },
  {
   "cell_type": "code",
   "execution_count": 45,
   "id": "7f37a3b7",
   "metadata": {},
   "outputs": [
    {
     "name": "stdout",
     "output_type": "stream",
     "text": [
      "Minimum value for 'High' column is: 16.629999\n",
      "25% (Q1) value for 'High' column is: 34.897501250000005\n",
      "Median value for 'High' is: 216.7450025\n",
      "75%(Q3) value for 'High' is: 270.92751275\n",
      "Maximum value for 'High' is: 786.140015\n"
     ]
    }
   ],
   "source": [
    "print(f\"Minimum value for 'High' column is: {stock_data['High'].min()}\")\n",
    "\n",
    "print(f\"25% (Q1) value for 'High' column is: {stock_data['High'].quantile(0.25)}\")\n",
    "\n",
    "print(f\"Median value for 'High' is: {stock_data['High'].median()}\")\n",
    "\n",
    "print(f\"75%(Q3) value for 'High' is: {stock_data['High'].quantile(0.75)}\")\n",
    "\n",
    "print(f\"Maximum value for 'High' is: {stock_data['High'].max()}\")"
   ]
  },
  {
   "cell_type": "markdown",
   "id": "ff4b5f62",
   "metadata": {},
   "source": [
    "#### Finding IQR (Inter Quartile Range) i.e Q3(75% of your data) - Q1(25 of your data)"
   ]
  },
  {
   "cell_type": "code",
   "execution_count": 46,
   "id": "ad9ab245",
   "metadata": {},
   "outputs": [
    {
     "name": "stdout",
     "output_type": "stream",
     "text": [
      "Q1: 34.897501250000005\n",
      "Q3: 270.92751275\n",
      "IQR: 236.0300115\n"
     ]
    }
   ],
   "source": [
    "Q1 = stock_data['High'].quantile(0.25)\n",
    "print(f\"Q1: {Q1}\")\n",
    "Q3 = stock_data['High'].quantile(0.75)\n",
    "print(f\"Q3: {Q3}\")\n",
    "IQR = Q3 - Q1         \n",
    "print(f\"IQR: {IQR}\")"
   ]
  },
  {
   "cell_type": "markdown",
   "id": "e68e6f57",
   "metadata": {},
   "source": [
    "#### Finding the Lower and Higher limit for 'High' column:"
   ]
  },
  {
   "cell_type": "code",
   "execution_count": 47,
   "id": "2e2e52fe",
   "metadata": {},
   "outputs": [
    {
     "name": "stdout",
     "output_type": "stream",
     "text": [
      "Lower limit of 'Close' is : -319.147516\n",
      "Higher limit of 'Close' is : 624.97253\n"
     ]
    }
   ],
   "source": [
    "Lower_limit = Q1 - 1.5 * IQR\n",
    "print(f\"Lower limit of 'Close' is : {Lower_limit}\")\n",
    "\n",
    "Higher_limit = Q3 + 1.5 * IQR\n",
    "print(f\"Higher limit of 'Close' is : {Higher_limit}\")"
   ]
  },
  {
   "cell_type": "code",
   "execution_count": 48,
   "id": "f47f903b",
   "metadata": {},
   "outputs": [
    {
     "data": {
      "text/html": [
       "<div>\n",
       "<style scoped>\n",
       "    .dataframe tbody tr th:only-of-type {\n",
       "        vertical-align: middle;\n",
       "    }\n",
       "\n",
       "    .dataframe tbody tr th {\n",
       "        vertical-align: top;\n",
       "    }\n",
       "\n",
       "    .dataframe thead th {\n",
       "        text-align: right;\n",
       "    }\n",
       "</style>\n",
       "<table border=\"1\" class=\"dataframe\">\n",
       "  <thead>\n",
       "    <tr style=\"text-align: right;\">\n",
       "      <th></th>\n",
       "      <th>Date</th>\n",
       "      <th>Open</th>\n",
       "      <th>High</th>\n",
       "      <th>Low</th>\n",
       "      <th>Close</th>\n",
       "      <th>Volume</th>\n",
       "    </tr>\n",
       "  </thead>\n",
       "  <tbody>\n",
       "    <tr>\n",
       "      <th>2413</th>\n",
       "      <td>2020-01-30</td>\n",
       "      <td>632.419983</td>\n",
       "      <td>650.880005</td>\n",
       "      <td>618.00000</td>\n",
       "      <td>640.809998</td>\n",
       "      <td>29005700</td>\n",
       "    </tr>\n",
       "    <tr>\n",
       "      <th>2414</th>\n",
       "      <td>2020-01-31</td>\n",
       "      <td>640.000000</td>\n",
       "      <td>653.000000</td>\n",
       "      <td>632.52002</td>\n",
       "      <td>650.570007</td>\n",
       "      <td>15719300</td>\n",
       "    </tr>\n",
       "    <tr>\n",
       "      <th>2415</th>\n",
       "      <td>2020-02-03</td>\n",
       "      <td>673.690002</td>\n",
       "      <td>786.140015</td>\n",
       "      <td>673.52002</td>\n",
       "      <td>780.000000</td>\n",
       "      <td>47065000</td>\n",
       "    </tr>\n",
       "  </tbody>\n",
       "</table>\n",
       "</div>"
      ],
      "text/plain": [
       "            Date        Open        High        Low       Close    Volume\n",
       "2413  2020-01-30  632.419983  650.880005  618.00000  640.809998  29005700\n",
       "2414  2020-01-31  640.000000  653.000000  632.52002  650.570007  15719300\n",
       "2415  2020-02-03  673.690002  786.140015  673.52002  780.000000  47065000"
      ]
     },
     "execution_count": 48,
     "metadata": {},
     "output_type": "execute_result"
    }
   ],
   "source": [
    "# Here we are finding the outliers for High column which includes values less than Lower limit and greater than Higher limit.\n",
    "\n",
    "outliers = stock_data[(stock_data['High'] < Lower_limit) | (stock_data['High'] > Higher_limit)]\n",
    "outliers"
   ]
  },
  {
   "cell_type": "code",
   "execution_count": 49,
   "id": "0e8d30fa",
   "metadata": {},
   "outputs": [
    {
     "data": {
      "text/plain": [
       "3"
      ]
     },
     "execution_count": 49,
     "metadata": {},
     "output_type": "execute_result"
    }
   ],
   "source": [
    "len(outliers)"
   ]
  },
  {
   "cell_type": "code",
   "execution_count": 50,
   "id": "351a1668",
   "metadata": {},
   "outputs": [
    {
     "data": {
      "text/html": [
       "<div>\n",
       "<style scoped>\n",
       "    .dataframe tbody tr th:only-of-type {\n",
       "        vertical-align: middle;\n",
       "    }\n",
       "\n",
       "    .dataframe tbody tr th {\n",
       "        vertical-align: top;\n",
       "    }\n",
       "\n",
       "    .dataframe thead th {\n",
       "        text-align: right;\n",
       "    }\n",
       "</style>\n",
       "<table border=\"1\" class=\"dataframe\">\n",
       "  <thead>\n",
       "    <tr style=\"text-align: right;\">\n",
       "      <th></th>\n",
       "      <th>Date</th>\n",
       "      <th>Open</th>\n",
       "      <th>High</th>\n",
       "      <th>Low</th>\n",
       "      <th>Close</th>\n",
       "      <th>Volume</th>\n",
       "    </tr>\n",
       "  </thead>\n",
       "  <tbody>\n",
       "    <tr>\n",
       "      <th>0</th>\n",
       "      <td>2010-06-29</td>\n",
       "      <td>19.000000</td>\n",
       "      <td>25.000000</td>\n",
       "      <td>17.540001</td>\n",
       "      <td>23.889999</td>\n",
       "      <td>18766300</td>\n",
       "    </tr>\n",
       "    <tr>\n",
       "      <th>1</th>\n",
       "      <td>2010-06-30</td>\n",
       "      <td>25.790001</td>\n",
       "      <td>30.420000</td>\n",
       "      <td>23.299999</td>\n",
       "      <td>23.830000</td>\n",
       "      <td>17187100</td>\n",
       "    </tr>\n",
       "    <tr>\n",
       "      <th>2</th>\n",
       "      <td>2010-07-01</td>\n",
       "      <td>25.000000</td>\n",
       "      <td>25.920000</td>\n",
       "      <td>20.270000</td>\n",
       "      <td>21.959999</td>\n",
       "      <td>8218800</td>\n",
       "    </tr>\n",
       "    <tr>\n",
       "      <th>3</th>\n",
       "      <td>2010-07-02</td>\n",
       "      <td>23.000000</td>\n",
       "      <td>23.100000</td>\n",
       "      <td>18.709999</td>\n",
       "      <td>19.200001</td>\n",
       "      <td>5139800</td>\n",
       "    </tr>\n",
       "    <tr>\n",
       "      <th>4</th>\n",
       "      <td>2010-07-06</td>\n",
       "      <td>20.000000</td>\n",
       "      <td>20.000000</td>\n",
       "      <td>15.830000</td>\n",
       "      <td>16.110001</td>\n",
       "      <td>6866900</td>\n",
       "    </tr>\n",
       "    <tr>\n",
       "      <th>...</th>\n",
       "      <td>...</td>\n",
       "      <td>...</td>\n",
       "      <td>...</td>\n",
       "      <td>...</td>\n",
       "      <td>...</td>\n",
       "      <td>...</td>\n",
       "    </tr>\n",
       "    <tr>\n",
       "      <th>2408</th>\n",
       "      <td>2020-01-23</td>\n",
       "      <td>564.250000</td>\n",
       "      <td>582.000000</td>\n",
       "      <td>555.599976</td>\n",
       "      <td>572.200012</td>\n",
       "      <td>19651000</td>\n",
       "    </tr>\n",
       "    <tr>\n",
       "      <th>2409</th>\n",
       "      <td>2020-01-24</td>\n",
       "      <td>570.630005</td>\n",
       "      <td>573.859985</td>\n",
       "      <td>554.260010</td>\n",
       "      <td>564.820007</td>\n",
       "      <td>14353600</td>\n",
       "    </tr>\n",
       "    <tr>\n",
       "      <th>2410</th>\n",
       "      <td>2020-01-27</td>\n",
       "      <td>541.989990</td>\n",
       "      <td>564.440002</td>\n",
       "      <td>539.280029</td>\n",
       "      <td>558.020020</td>\n",
       "      <td>13608100</td>\n",
       "    </tr>\n",
       "    <tr>\n",
       "      <th>2411</th>\n",
       "      <td>2020-01-28</td>\n",
       "      <td>568.489990</td>\n",
       "      <td>576.809998</td>\n",
       "      <td>558.080017</td>\n",
       "      <td>566.900024</td>\n",
       "      <td>11788500</td>\n",
       "    </tr>\n",
       "    <tr>\n",
       "      <th>2412</th>\n",
       "      <td>2020-01-29</td>\n",
       "      <td>575.690002</td>\n",
       "      <td>589.799988</td>\n",
       "      <td>567.429993</td>\n",
       "      <td>580.989990</td>\n",
       "      <td>17801500</td>\n",
       "    </tr>\n",
       "  </tbody>\n",
       "</table>\n",
       "<p>2413 rows × 6 columns</p>\n",
       "</div>"
      ],
      "text/plain": [
       "            Date        Open        High         Low       Close    Volume\n",
       "0     2010-06-29   19.000000   25.000000   17.540001   23.889999  18766300\n",
       "1     2010-06-30   25.790001   30.420000   23.299999   23.830000  17187100\n",
       "2     2010-07-01   25.000000   25.920000   20.270000   21.959999   8218800\n",
       "3     2010-07-02   23.000000   23.100000   18.709999   19.200001   5139800\n",
       "4     2010-07-06   20.000000   20.000000   15.830000   16.110001   6866900\n",
       "...          ...         ...         ...         ...         ...       ...\n",
       "2408  2020-01-23  564.250000  582.000000  555.599976  572.200012  19651000\n",
       "2409  2020-01-24  570.630005  573.859985  554.260010  564.820007  14353600\n",
       "2410  2020-01-27  541.989990  564.440002  539.280029  558.020020  13608100\n",
       "2411  2020-01-28  568.489990  576.809998  558.080017  566.900024  11788500\n",
       "2412  2020-01-29  575.690002  589.799988  567.429993  580.989990  17801500\n",
       "\n",
       "[2413 rows x 6 columns]"
      ]
     },
     "execution_count": 50,
     "metadata": {},
     "output_type": "execute_result"
    }
   ],
   "source": [
    "# Here we got the values except the outiers\n",
    "\n",
    "stock_data[(stock_data['Close'] > Lower_limit) & (stock_data['Close'] < Higher_limit)]"
   ]
  },
  {
   "cell_type": "code",
   "execution_count": 51,
   "id": "af50176b",
   "metadata": {},
   "outputs": [
    {
     "data": {
      "text/plain": [
       "<AxesSubplot:xlabel='Low'>"
      ]
     },
     "execution_count": 51,
     "metadata": {},
     "output_type": "execute_result"
    },
    {
     "data": {
      "image/png": "[encoded data removed]",
      "text/plain": [
       "<Figure size 432x288 with 1 Axes>"
      ]
     },
     "metadata": {
      "needs_background": "light"
     },
     "output_type": "display_data"
    }
   ],
   "source": [
    "sns.boxplot(stock_data['Low'])    # For \"Low\" column"
   ]
  },
  {
   "cell_type": "code",
   "execution_count": 52,
   "id": "74cd67b8",
   "metadata": {},
   "outputs": [
    {
     "name": "stdout",
     "output_type": "stream",
     "text": [
      "Minimum value for 'Low' column is: 14.98\n",
      "25% (Q1) value for 'Low' column is: 33.587500500000004\n",
      "Median value for 'Low' is: 208.8700025\n",
      "75%(Q3) value for 'Low' is: 262.10250075\n",
      "Maximum value for 'Low' is: 673.52002\n"
     ]
    }
   ],
   "source": [
    "print(f\"Minimum value for 'Low' column is: {stock_data['Low'].min()}\")\n",
    "\n",
    "print(f\"25% (Q1) value for 'Low' column is: {stock_data['Low'].quantile(0.25)}\")\n",
    "\n",
    "print(f\"Median value for 'Low' is: {stock_data['Low'].median()}\")\n",
    "\n",
    "print(f\"75%(Q3) value for 'Low' is: {stock_data['Low'].quantile(0.75)}\")\n",
    "\n",
    "print(f\"Maximum value for 'Low' is: {stock_data['Low'].max()}\")"
   ]
  },
  {
   "cell_type": "markdown",
   "id": "e94f1033",
   "metadata": {},
   "source": [
    "#### Finding IQR (Inter Quartile Range) i.e Q3(75% of your data) - Q1(25 of your data)"
   ]
  },
  {
   "cell_type": "code",
   "execution_count": 53,
   "id": "864cabc1",
   "metadata": {},
   "outputs": [
    {
     "name": "stdout",
     "output_type": "stream",
     "text": [
      "Q1: 33.587500500000004\n",
      "Q3: 262.10250075\n",
      "IQR: 228.51500024999999\n"
     ]
    }
   ],
   "source": [
    "Q1 = stock_data['Low'].quantile(0.25)\n",
    "print(f\"Q1: {Q1}\")\n",
    "Q3 = stock_data['Low'].quantile(0.75)\n",
    "print(f\"Q3: {Q3}\")\n",
    "IQR = Q3 - Q1         \n",
    "print(f\"IQR: {IQR}\")"
   ]
  },
  {
   "cell_type": "markdown",
   "id": "d6bcfed5",
   "metadata": {},
   "source": [
    "#### Finding the Lower and Higher limit for 'Low' column:"
   ]
  },
  {
   "cell_type": "code",
   "execution_count": 54,
   "id": "8df12149",
   "metadata": {},
   "outputs": [
    {
     "name": "stdout",
     "output_type": "stream",
     "text": [
      "Lower limit of 'Close' is : -309.184999875\n",
      "Higher limit of 'Close' is : 604.8750011249999\n"
     ]
    }
   ],
   "source": [
    "Lower_limit = Q1 - 1.5 * IQR\n",
    "print(f\"Lower limit of 'Close' is : {Lower_limit}\")\n",
    "\n",
    "Higher_limit = Q3 + 1.5 * IQR\n",
    "print(f\"Higher limit of 'Close' is : {Higher_limit}\")"
   ]
  },
  {
   "cell_type": "code",
   "execution_count": 55,
   "id": "78379052",
   "metadata": {},
   "outputs": [
    {
     "data": {
      "text/html": [
       "<div>\n",
       "<style scoped>\n",
       "    .dataframe tbody tr th:only-of-type {\n",
       "        vertical-align: middle;\n",
       "    }\n",
       "\n",
       "    .dataframe tbody tr th {\n",
       "        vertical-align: top;\n",
       "    }\n",
       "\n",
       "    .dataframe thead th {\n",
       "        text-align: right;\n",
       "    }\n",
       "</style>\n",
       "<table border=\"1\" class=\"dataframe\">\n",
       "  <thead>\n",
       "    <tr style=\"text-align: right;\">\n",
       "      <th></th>\n",
       "      <th>Date</th>\n",
       "      <th>Open</th>\n",
       "      <th>High</th>\n",
       "      <th>Low</th>\n",
       "      <th>Close</th>\n",
       "      <th>Volume</th>\n",
       "    </tr>\n",
       "  </thead>\n",
       "  <tbody>\n",
       "    <tr>\n",
       "      <th>2413</th>\n",
       "      <td>2020-01-30</td>\n",
       "      <td>632.419983</td>\n",
       "      <td>650.880005</td>\n",
       "      <td>618.00000</td>\n",
       "      <td>640.809998</td>\n",
       "      <td>29005700</td>\n",
       "    </tr>\n",
       "    <tr>\n",
       "      <th>2414</th>\n",
       "      <td>2020-01-31</td>\n",
       "      <td>640.000000</td>\n",
       "      <td>653.000000</td>\n",
       "      <td>632.52002</td>\n",
       "      <td>650.570007</td>\n",
       "      <td>15719300</td>\n",
       "    </tr>\n",
       "    <tr>\n",
       "      <th>2415</th>\n",
       "      <td>2020-02-03</td>\n",
       "      <td>673.690002</td>\n",
       "      <td>786.140015</td>\n",
       "      <td>673.52002</td>\n",
       "      <td>780.000000</td>\n",
       "      <td>47065000</td>\n",
       "    </tr>\n",
       "  </tbody>\n",
       "</table>\n",
       "</div>"
      ],
      "text/plain": [
       "            Date        Open        High        Low       Close    Volume\n",
       "2413  2020-01-30  632.419983  650.880005  618.00000  640.809998  29005700\n",
       "2414  2020-01-31  640.000000  653.000000  632.52002  650.570007  15719300\n",
       "2415  2020-02-03  673.690002  786.140015  673.52002  780.000000  47065000"
      ]
     },
     "execution_count": 55,
     "metadata": {},
     "output_type": "execute_result"
    }
   ],
   "source": [
    "# Here we are finding the outliers for Low column which includes values less than Lower limit and greater than Higher limit.\n",
    "\n",
    "outliers = stock_data[(stock_data['Low'] < Lower_limit) | (stock_data['Low'] > Higher_limit)]\n",
    "outliers"
   ]
  },
  {
   "cell_type": "code",
   "execution_count": 56,
   "id": "51017082",
   "metadata": {},
   "outputs": [
    {
     "data": {
      "text/plain": [
       "3"
      ]
     },
     "execution_count": 56,
     "metadata": {},
     "output_type": "execute_result"
    }
   ],
   "source": [
    "len(outliers)"
   ]
  },
  {
   "cell_type": "code",
   "execution_count": 57,
   "id": "3adb5ac6",
   "metadata": {},
   "outputs": [
    {
     "data": {
      "text/html": [
       "<div>\n",
       "<style scoped>\n",
       "    .dataframe tbody tr th:only-of-type {\n",
       "        vertical-align: middle;\n",
       "    }\n",
       "\n",
       "    .dataframe tbody tr th {\n",
       "        vertical-align: top;\n",
       "    }\n",
       "\n",
       "    .dataframe thead th {\n",
       "        text-align: right;\n",
       "    }\n",
       "</style>\n",
       "<table border=\"1\" class=\"dataframe\">\n",
       "  <thead>\n",
       "    <tr style=\"text-align: right;\">\n",
       "      <th></th>\n",
       "      <th>Date</th>\n",
       "      <th>Open</th>\n",
       "      <th>High</th>\n",
       "      <th>Low</th>\n",
       "      <th>Close</th>\n",
       "      <th>Volume</th>\n",
       "    </tr>\n",
       "  </thead>\n",
       "  <tbody>\n",
       "    <tr>\n",
       "      <th>0</th>\n",
       "      <td>2010-06-29</td>\n",
       "      <td>19.000000</td>\n",
       "      <td>25.000000</td>\n",
       "      <td>17.540001</td>\n",
       "      <td>23.889999</td>\n",
       "      <td>18766300</td>\n",
       "    </tr>\n",
       "    <tr>\n",
       "      <th>1</th>\n",
       "      <td>2010-06-30</td>\n",
       "      <td>25.790001</td>\n",
       "      <td>30.420000</td>\n",
       "      <td>23.299999</td>\n",
       "      <td>23.830000</td>\n",
       "      <td>17187100</td>\n",
       "    </tr>\n",
       "    <tr>\n",
       "      <th>2</th>\n",
       "      <td>2010-07-01</td>\n",
       "      <td>25.000000</td>\n",
       "      <td>25.920000</td>\n",
       "      <td>20.270000</td>\n",
       "      <td>21.959999</td>\n",
       "      <td>8218800</td>\n",
       "    </tr>\n",
       "    <tr>\n",
       "      <th>3</th>\n",
       "      <td>2010-07-02</td>\n",
       "      <td>23.000000</td>\n",
       "      <td>23.100000</td>\n",
       "      <td>18.709999</td>\n",
       "      <td>19.200001</td>\n",
       "      <td>5139800</td>\n",
       "    </tr>\n",
       "    <tr>\n",
       "      <th>4</th>\n",
       "      <td>2010-07-06</td>\n",
       "      <td>20.000000</td>\n",
       "      <td>20.000000</td>\n",
       "      <td>15.830000</td>\n",
       "      <td>16.110001</td>\n",
       "      <td>6866900</td>\n",
       "    </tr>\n",
       "    <tr>\n",
       "      <th>...</th>\n",
       "      <td>...</td>\n",
       "      <td>...</td>\n",
       "      <td>...</td>\n",
       "      <td>...</td>\n",
       "      <td>...</td>\n",
       "      <td>...</td>\n",
       "    </tr>\n",
       "    <tr>\n",
       "      <th>2408</th>\n",
       "      <td>2020-01-23</td>\n",
       "      <td>564.250000</td>\n",
       "      <td>582.000000</td>\n",
       "      <td>555.599976</td>\n",
       "      <td>572.200012</td>\n",
       "      <td>19651000</td>\n",
       "    </tr>\n",
       "    <tr>\n",
       "      <th>2409</th>\n",
       "      <td>2020-01-24</td>\n",
       "      <td>570.630005</td>\n",
       "      <td>573.859985</td>\n",
       "      <td>554.260010</td>\n",
       "      <td>564.820007</td>\n",
       "      <td>14353600</td>\n",
       "    </tr>\n",
       "    <tr>\n",
       "      <th>2410</th>\n",
       "      <td>2020-01-27</td>\n",
       "      <td>541.989990</td>\n",
       "      <td>564.440002</td>\n",
       "      <td>539.280029</td>\n",
       "      <td>558.020020</td>\n",
       "      <td>13608100</td>\n",
       "    </tr>\n",
       "    <tr>\n",
       "      <th>2411</th>\n",
       "      <td>2020-01-28</td>\n",
       "      <td>568.489990</td>\n",
       "      <td>576.809998</td>\n",
       "      <td>558.080017</td>\n",
       "      <td>566.900024</td>\n",
       "      <td>11788500</td>\n",
       "    </tr>\n",
       "    <tr>\n",
       "      <th>2412</th>\n",
       "      <td>2020-01-29</td>\n",
       "      <td>575.690002</td>\n",
       "      <td>589.799988</td>\n",
       "      <td>567.429993</td>\n",
       "      <td>580.989990</td>\n",
       "      <td>17801500</td>\n",
       "    </tr>\n",
       "  </tbody>\n",
       "</table>\n",
       "<p>2413 rows × 6 columns</p>\n",
       "</div>"
      ],
      "text/plain": [
       "            Date        Open        High         Low       Close    Volume\n",
       "0     2010-06-29   19.000000   25.000000   17.540001   23.889999  18766300\n",
       "1     2010-06-30   25.790001   30.420000   23.299999   23.830000  17187100\n",
       "2     2010-07-01   25.000000   25.920000   20.270000   21.959999   8218800\n",
       "3     2010-07-02   23.000000   23.100000   18.709999   19.200001   5139800\n",
       "4     2010-07-06   20.000000   20.000000   15.830000   16.110001   6866900\n",
       "...          ...         ...         ...         ...         ...       ...\n",
       "2408  2020-01-23  564.250000  582.000000  555.599976  572.200012  19651000\n",
       "2409  2020-01-24  570.630005  573.859985  554.260010  564.820007  14353600\n",
       "2410  2020-01-27  541.989990  564.440002  539.280029  558.020020  13608100\n",
       "2411  2020-01-28  568.489990  576.809998  558.080017  566.900024  11788500\n",
       "2412  2020-01-29  575.690002  589.799988  567.429993  580.989990  17801500\n",
       "\n",
       "[2413 rows x 6 columns]"
      ]
     },
     "execution_count": 57,
     "metadata": {},
     "output_type": "execute_result"
    }
   ],
   "source": [
    "# Here we got the values except the outiers\n",
    "\n",
    "stock_data[(stock_data['Low'] > Lower_limit) & (stock_data['Low'] < Higher_limit)]"
   ]
  },
  {
   "cell_type": "markdown",
   "id": "bef48926",
   "metadata": {},
   "source": [
    "* One thing we can notice here is that in all of the 4 columns i.e Open, Close, High and Low contains the outliers for same record i.e for index no. 2413,2414,2415, So we can delete them."
   ]
  },
  {
   "cell_type": "code",
   "execution_count": 58,
   "id": "30d327a3",
   "metadata": {},
   "outputs": [
    {
     "data": {
      "text/html": [
       "<div>\n",
       "<style scoped>\n",
       "    .dataframe tbody tr th:only-of-type {\n",
       "        vertical-align: middle;\n",
       "    }\n",
       "\n",
       "    .dataframe tbody tr th {\n",
       "        vertical-align: top;\n",
       "    }\n",
       "\n",
       "    .dataframe thead th {\n",
       "        text-align: right;\n",
       "    }\n",
       "</style>\n",
       "<table border=\"1\" class=\"dataframe\">\n",
       "  <thead>\n",
       "    <tr style=\"text-align: right;\">\n",
       "      <th></th>\n",
       "      <th>Date</th>\n",
       "      <th>Open</th>\n",
       "      <th>High</th>\n",
       "      <th>Low</th>\n",
       "      <th>Close</th>\n",
       "      <th>Volume</th>\n",
       "    </tr>\n",
       "  </thead>\n",
       "  <tbody>\n",
       "    <tr>\n",
       "      <th>0</th>\n",
       "      <td>2010-06-29</td>\n",
       "      <td>19.000000</td>\n",
       "      <td>25.000000</td>\n",
       "      <td>17.540001</td>\n",
       "      <td>23.889999</td>\n",
       "      <td>18766300</td>\n",
       "    </tr>\n",
       "    <tr>\n",
       "      <th>1</th>\n",
       "      <td>2010-06-30</td>\n",
       "      <td>25.790001</td>\n",
       "      <td>30.420000</td>\n",
       "      <td>23.299999</td>\n",
       "      <td>23.830000</td>\n",
       "      <td>17187100</td>\n",
       "    </tr>\n",
       "    <tr>\n",
       "      <th>2</th>\n",
       "      <td>2010-07-01</td>\n",
       "      <td>25.000000</td>\n",
       "      <td>25.920000</td>\n",
       "      <td>20.270000</td>\n",
       "      <td>21.959999</td>\n",
       "      <td>8218800</td>\n",
       "    </tr>\n",
       "    <tr>\n",
       "      <th>3</th>\n",
       "      <td>2010-07-02</td>\n",
       "      <td>23.000000</td>\n",
       "      <td>23.100000</td>\n",
       "      <td>18.709999</td>\n",
       "      <td>19.200001</td>\n",
       "      <td>5139800</td>\n",
       "    </tr>\n",
       "    <tr>\n",
       "      <th>4</th>\n",
       "      <td>2010-07-06</td>\n",
       "      <td>20.000000</td>\n",
       "      <td>20.000000</td>\n",
       "      <td>15.830000</td>\n",
       "      <td>16.110001</td>\n",
       "      <td>6866900</td>\n",
       "    </tr>\n",
       "    <tr>\n",
       "      <th>...</th>\n",
       "      <td>...</td>\n",
       "      <td>...</td>\n",
       "      <td>...</td>\n",
       "      <td>...</td>\n",
       "      <td>...</td>\n",
       "      <td>...</td>\n",
       "    </tr>\n",
       "    <tr>\n",
       "      <th>2408</th>\n",
       "      <td>2020-01-23</td>\n",
       "      <td>564.250000</td>\n",
       "      <td>582.000000</td>\n",
       "      <td>555.599976</td>\n",
       "      <td>572.200012</td>\n",
       "      <td>19651000</td>\n",
       "    </tr>\n",
       "    <tr>\n",
       "      <th>2409</th>\n",
       "      <td>2020-01-24</td>\n",
       "      <td>570.630005</td>\n",
       "      <td>573.859985</td>\n",
       "      <td>554.260010</td>\n",
       "      <td>564.820007</td>\n",
       "      <td>14353600</td>\n",
       "    </tr>\n",
       "    <tr>\n",
       "      <th>2410</th>\n",
       "      <td>2020-01-27</td>\n",
       "      <td>541.989990</td>\n",
       "      <td>564.440002</td>\n",
       "      <td>539.280029</td>\n",
       "      <td>558.020020</td>\n",
       "      <td>13608100</td>\n",
       "    </tr>\n",
       "    <tr>\n",
       "      <th>2411</th>\n",
       "      <td>2020-01-28</td>\n",
       "      <td>568.489990</td>\n",
       "      <td>576.809998</td>\n",
       "      <td>558.080017</td>\n",
       "      <td>566.900024</td>\n",
       "      <td>11788500</td>\n",
       "    </tr>\n",
       "    <tr>\n",
       "      <th>2412</th>\n",
       "      <td>2020-01-29</td>\n",
       "      <td>575.690002</td>\n",
       "      <td>589.799988</td>\n",
       "      <td>567.429993</td>\n",
       "      <td>580.989990</td>\n",
       "      <td>17801500</td>\n",
       "    </tr>\n",
       "  </tbody>\n",
       "</table>\n",
       "<p>2413 rows × 6 columns</p>\n",
       "</div>"
      ],
      "text/plain": [
       "            Date        Open        High         Low       Close    Volume\n",
       "0     2010-06-29   19.000000   25.000000   17.540001   23.889999  18766300\n",
       "1     2010-06-30   25.790001   30.420000   23.299999   23.830000  17187100\n",
       "2     2010-07-01   25.000000   25.920000   20.270000   21.959999   8218800\n",
       "3     2010-07-02   23.000000   23.100000   18.709999   19.200001   5139800\n",
       "4     2010-07-06   20.000000   20.000000   15.830000   16.110001   6866900\n",
       "...          ...         ...         ...         ...         ...       ...\n",
       "2408  2020-01-23  564.250000  582.000000  555.599976  572.200012  19651000\n",
       "2409  2020-01-24  570.630005  573.859985  554.260010  564.820007  14353600\n",
       "2410  2020-01-27  541.989990  564.440002  539.280029  558.020020  13608100\n",
       "2411  2020-01-28  568.489990  576.809998  558.080017  566.900024  11788500\n",
       "2412  2020-01-29  575.690002  589.799988  567.429993  580.989990  17801500\n",
       "\n",
       "[2413 rows x 6 columns]"
      ]
     },
     "execution_count": 58,
     "metadata": {},
     "output_type": "execute_result"
    }
   ],
   "source": [
    "# Here, we have deleted the records which contains outliers.\n",
    "\n",
    "stock_data.drop([2413,2414,2415], inplace = True)\n",
    "\n",
    "stock_data"
   ]
  },
  {
   "cell_type": "code",
   "execution_count": 59,
   "id": "bf4244a2",
   "metadata": {},
   "outputs": [
    {
     "data": {
      "text/plain": [
       "<AxesSubplot:xlabel='Volume'>"
      ]
     },
     "execution_count": 59,
     "metadata": {},
     "output_type": "execute_result"
    },
    {
     "data": {
      "image/png": "[encoded data removed]",
      "text/plain": [
       "<Figure size 432x288 with 1 Axes>"
      ]
     },
     "metadata": {
      "needs_background": "light"
     },
     "output_type": "display_data"
    }
   ],
   "source": [
    "sns.boxplot(stock_data['Volume'])    # For \"Volume\" column"
   ]
  },
  {
   "cell_type": "code",
   "execution_count": 60,
   "id": "6f3e7e92",
   "metadata": {},
   "outputs": [
    {
     "name": "stdout",
     "output_type": "stream",
     "text": [
      "Minimum value for 'Volume' column is: 118500\n",
      "25% (Q1) value for 'Volume' column is: 1893200.0\n",
      "Median value for 'Volume' is: 4573000.0\n",
      "75%(Q3) value for 'Volume' is: 7352100.0\n",
      "Maximum value for 'Volume' is: 37163900\n"
     ]
    }
   ],
   "source": [
    "print(f\"Minimum value for 'Volume' column is: {stock_data['Volume'].min()}\")\n",
    "\n",
    "print(f\"25% (Q1) value for 'Volume' column is: {stock_data['Volume'].quantile(0.25)}\")\n",
    "\n",
    "print(f\"Median value for 'Volume' is: {stock_data['Volume'].median()}\")\n",
    "\n",
    "print(f\"75%(Q3) value for 'Volume' is: {stock_data['Volume'].quantile(0.75)}\")\n",
    "\n",
    "print(f\"Maximum value for 'Volume' is: {stock_data['Volume'].max()}\")"
   ]
  },
  {
   "cell_type": "markdown",
   "id": "e2fc004c",
   "metadata": {},
   "source": [
    "#### Finding IQR (Inter Quartile Range) i.e Q3(75% of your data) - Q1(25 of your data)"
   ]
  },
  {
   "cell_type": "code",
   "execution_count": 61,
   "id": "381df713",
   "metadata": {},
   "outputs": [
    {
     "name": "stdout",
     "output_type": "stream",
     "text": [
      "Q1: 1893200.0\n",
      "Q3: 7352100.0\n",
      "IQR: 5458900.0\n"
     ]
    }
   ],
   "source": [
    "Q1 = stock_data['Volume'].quantile(0.25)\n",
    "print(f\"Q1: {Q1}\")\n",
    "Q3 = stock_data['Volume'].quantile(0.75)\n",
    "print(f\"Q3: {Q3}\")\n",
    "IQR = Q3 - Q1         \n",
    "print(f\"IQR: {IQR}\")"
   ]
  },
  {
   "cell_type": "markdown",
   "id": "6b2f6b2f",
   "metadata": {},
   "source": [
    "#### Finding the Lower and Higher limit for 'Volume' column:"
   ]
  },
  {
   "cell_type": "code",
   "execution_count": 62,
   "id": "463f6ef5",
   "metadata": {},
   "outputs": [
    {
     "name": "stdout",
     "output_type": "stream",
     "text": [
      "Lower limit of 'Close' is : -6295150.0\n",
      "Higher limit of 'Close' is : 15540450.0\n"
     ]
    }
   ],
   "source": [
    "Lower_limit = Q1 - 1.5 * IQR\n",
    "print(f\"Lower limit of 'Close' is : {Lower_limit}\")\n",
    "\n",
    "Higher_limit = Q3 + 1.5 * IQR\n",
    "print(f\"Higher limit of 'Close' is : {Higher_limit}\")"
   ]
  },
  {
   "cell_type": "code",
   "execution_count": 63,
   "id": "a5dc75be",
   "metadata": {},
   "outputs": [
    {
     "data": {
      "text/html": [
       "<div>\n",
       "<style scoped>\n",
       "    .dataframe tbody tr th:only-of-type {\n",
       "        vertical-align: middle;\n",
       "    }\n",
       "\n",
       "    .dataframe tbody tr th {\n",
       "        vertical-align: top;\n",
       "    }\n",
       "\n",
       "    .dataframe thead th {\n",
       "        text-align: right;\n",
       "    }\n",
       "</style>\n",
       "<table border=\"1\" class=\"dataframe\">\n",
       "  <thead>\n",
       "    <tr style=\"text-align: right;\">\n",
       "      <th></th>\n",
       "      <th>Date</th>\n",
       "      <th>Open</th>\n",
       "      <th>High</th>\n",
       "      <th>Low</th>\n",
       "      <th>Close</th>\n",
       "      <th>Volume</th>\n",
       "    </tr>\n",
       "  </thead>\n",
       "  <tbody>\n",
       "    <tr>\n",
       "      <th>0</th>\n",
       "      <td>2010-06-29</td>\n",
       "      <td>19.000000</td>\n",
       "      <td>25.000000</td>\n",
       "      <td>17.540001</td>\n",
       "      <td>23.889999</td>\n",
       "      <td>18766300</td>\n",
       "    </tr>\n",
       "    <tr>\n",
       "      <th>1</th>\n",
       "      <td>2010-06-30</td>\n",
       "      <td>25.790001</td>\n",
       "      <td>30.420000</td>\n",
       "      <td>23.299999</td>\n",
       "      <td>23.830000</td>\n",
       "      <td>17187100</td>\n",
       "    </tr>\n",
       "    <tr>\n",
       "      <th>720</th>\n",
       "      <td>2013-05-09</td>\n",
       "      <td>70.120003</td>\n",
       "      <td>75.769997</td>\n",
       "      <td>63.689999</td>\n",
       "      <td>69.400002</td>\n",
       "      <td>28605000</td>\n",
       "    </tr>\n",
       "    <tr>\n",
       "      <th>721</th>\n",
       "      <td>2013-05-10</td>\n",
       "      <td>69.650002</td>\n",
       "      <td>81.000000</td>\n",
       "      <td>69.250000</td>\n",
       "      <td>76.760002</td>\n",
       "      <td>25082600</td>\n",
       "    </tr>\n",
       "    <tr>\n",
       "      <th>722</th>\n",
       "      <td>2013-05-13</td>\n",
       "      <td>80.989998</td>\n",
       "      <td>88.000000</td>\n",
       "      <td>79.150002</td>\n",
       "      <td>87.800003</td>\n",
       "      <td>22416900</td>\n",
       "    </tr>\n",
       "    <tr>\n",
       "      <th>...</th>\n",
       "      <td>...</td>\n",
       "      <td>...</td>\n",
       "      <td>...</td>\n",
       "      <td>...</td>\n",
       "      <td>...</td>\n",
       "      <td>...</td>\n",
       "    </tr>\n",
       "    <tr>\n",
       "      <th>2404</th>\n",
       "      <td>2020-01-16</td>\n",
       "      <td>493.750000</td>\n",
       "      <td>514.460022</td>\n",
       "      <td>492.170013</td>\n",
       "      <td>513.489990</td>\n",
       "      <td>21736700</td>\n",
       "    </tr>\n",
       "    <tr>\n",
       "      <th>2406</th>\n",
       "      <td>2020-01-21</td>\n",
       "      <td>530.250000</td>\n",
       "      <td>548.580017</td>\n",
       "      <td>528.409973</td>\n",
       "      <td>547.200012</td>\n",
       "      <td>17803500</td>\n",
       "    </tr>\n",
       "    <tr>\n",
       "      <th>2407</th>\n",
       "      <td>2020-01-22</td>\n",
       "      <td>571.890015</td>\n",
       "      <td>594.500000</td>\n",
       "      <td>559.099976</td>\n",
       "      <td>569.559998</td>\n",
       "      <td>31369000</td>\n",
       "    </tr>\n",
       "    <tr>\n",
       "      <th>2408</th>\n",
       "      <td>2020-01-23</td>\n",
       "      <td>564.250000</td>\n",
       "      <td>582.000000</td>\n",
       "      <td>555.599976</td>\n",
       "      <td>572.200012</td>\n",
       "      <td>19651000</td>\n",
       "    </tr>\n",
       "    <tr>\n",
       "      <th>2412</th>\n",
       "      <td>2020-01-29</td>\n",
       "      <td>575.690002</td>\n",
       "      <td>589.799988</td>\n",
       "      <td>567.429993</td>\n",
       "      <td>580.989990</td>\n",
       "      <td>17801500</td>\n",
       "    </tr>\n",
       "  </tbody>\n",
       "</table>\n",
       "<p>107 rows × 6 columns</p>\n",
       "</div>"
      ],
      "text/plain": [
       "            Date        Open        High         Low       Close    Volume\n",
       "0     2010-06-29   19.000000   25.000000   17.540001   23.889999  18766300\n",
       "1     2010-06-30   25.790001   30.420000   23.299999   23.830000  17187100\n",
       "720   2013-05-09   70.120003   75.769997   63.689999   69.400002  28605000\n",
       "721   2013-05-10   69.650002   81.000000   69.250000   76.760002  25082600\n",
       "722   2013-05-13   80.989998   88.000000   79.150002   87.800003  22416900\n",
       "...          ...         ...         ...         ...         ...       ...\n",
       "2404  2020-01-16  493.750000  514.460022  492.170013  513.489990  21736700\n",
       "2406  2020-01-21  530.250000  548.580017  528.409973  547.200012  17803500\n",
       "2407  2020-01-22  571.890015  594.500000  559.099976  569.559998  31369000\n",
       "2408  2020-01-23  564.250000  582.000000  555.599976  572.200012  19651000\n",
       "2412  2020-01-29  575.690002  589.799988  567.429993  580.989990  17801500\n",
       "\n",
       "[107 rows x 6 columns]"
      ]
     },
     "execution_count": 63,
     "metadata": {},
     "output_type": "execute_result"
    }
   ],
   "source": [
    "# Here we are finding the outliers for Volume column which includes values less than Lower limit and greater than Higher limit.\n",
    "\n",
    "outliers = stock_data[(stock_data['Volume'] < Lower_limit) | (stock_data['Volume'] > Higher_limit)]\n",
    "outliers"
   ]
  },
  {
   "cell_type": "code",
   "execution_count": 64,
   "id": "de485e32",
   "metadata": {},
   "outputs": [
    {
     "data": {
      "text/plain": [
       "107"
      ]
     },
     "execution_count": 64,
     "metadata": {},
     "output_type": "execute_result"
    }
   ],
   "source": [
    "len(outliers)"
   ]
  },
  {
   "cell_type": "code",
   "execution_count": 65,
   "id": "5053b9e8",
   "metadata": {},
   "outputs": [
    {
     "data": {
      "text/html": [
       "<div>\n",
       "<style scoped>\n",
       "    .dataframe tbody tr th:only-of-type {\n",
       "        vertical-align: middle;\n",
       "    }\n",
       "\n",
       "    .dataframe tbody tr th {\n",
       "        vertical-align: top;\n",
       "    }\n",
       "\n",
       "    .dataframe thead th {\n",
       "        text-align: right;\n",
       "    }\n",
       "</style>\n",
       "<table border=\"1\" class=\"dataframe\">\n",
       "  <thead>\n",
       "    <tr style=\"text-align: right;\">\n",
       "      <th></th>\n",
       "      <th>Date</th>\n",
       "      <th>Open</th>\n",
       "      <th>High</th>\n",
       "      <th>Low</th>\n",
       "      <th>Close</th>\n",
       "      <th>Volume</th>\n",
       "    </tr>\n",
       "  </thead>\n",
       "  <tbody>\n",
       "    <tr>\n",
       "      <th>2</th>\n",
       "      <td>2010-07-01</td>\n",
       "      <td>25.000000</td>\n",
       "      <td>25.920000</td>\n",
       "      <td>20.270000</td>\n",
       "      <td>21.959999</td>\n",
       "      <td>8218800</td>\n",
       "    </tr>\n",
       "    <tr>\n",
       "      <th>3</th>\n",
       "      <td>2010-07-02</td>\n",
       "      <td>23.000000</td>\n",
       "      <td>23.100000</td>\n",
       "      <td>18.709999</td>\n",
       "      <td>19.200001</td>\n",
       "      <td>5139800</td>\n",
       "    </tr>\n",
       "    <tr>\n",
       "      <th>4</th>\n",
       "      <td>2010-07-06</td>\n",
       "      <td>20.000000</td>\n",
       "      <td>20.000000</td>\n",
       "      <td>15.830000</td>\n",
       "      <td>16.110001</td>\n",
       "      <td>6866900</td>\n",
       "    </tr>\n",
       "    <tr>\n",
       "      <th>5</th>\n",
       "      <td>2010-07-07</td>\n",
       "      <td>16.400000</td>\n",
       "      <td>16.629999</td>\n",
       "      <td>14.980000</td>\n",
       "      <td>15.800000</td>\n",
       "      <td>6921700</td>\n",
       "    </tr>\n",
       "    <tr>\n",
       "      <th>6</th>\n",
       "      <td>2010-07-08</td>\n",
       "      <td>16.139999</td>\n",
       "      <td>17.520000</td>\n",
       "      <td>15.570000</td>\n",
       "      <td>17.459999</td>\n",
       "      <td>7711400</td>\n",
       "    </tr>\n",
       "    <tr>\n",
       "      <th>...</th>\n",
       "      <td>...</td>\n",
       "      <td>...</td>\n",
       "      <td>...</td>\n",
       "      <td>...</td>\n",
       "      <td>...</td>\n",
       "      <td>...</td>\n",
       "    </tr>\n",
       "    <tr>\n",
       "      <th>2400</th>\n",
       "      <td>2020-01-10</td>\n",
       "      <td>481.790009</td>\n",
       "      <td>484.940002</td>\n",
       "      <td>473.700012</td>\n",
       "      <td>478.149994</td>\n",
       "      <td>12959500</td>\n",
       "    </tr>\n",
       "    <tr>\n",
       "      <th>2405</th>\n",
       "      <td>2020-01-17</td>\n",
       "      <td>507.609985</td>\n",
       "      <td>515.669983</td>\n",
       "      <td>503.160004</td>\n",
       "      <td>510.500000</td>\n",
       "      <td>13629100</td>\n",
       "    </tr>\n",
       "    <tr>\n",
       "      <th>2409</th>\n",
       "      <td>2020-01-24</td>\n",
       "      <td>570.630005</td>\n",
       "      <td>573.859985</td>\n",
       "      <td>554.260010</td>\n",
       "      <td>564.820007</td>\n",
       "      <td>14353600</td>\n",
       "    </tr>\n",
       "    <tr>\n",
       "      <th>2410</th>\n",
       "      <td>2020-01-27</td>\n",
       "      <td>541.989990</td>\n",
       "      <td>564.440002</td>\n",
       "      <td>539.280029</td>\n",
       "      <td>558.020020</td>\n",
       "      <td>13608100</td>\n",
       "    </tr>\n",
       "    <tr>\n",
       "      <th>2411</th>\n",
       "      <td>2020-01-28</td>\n",
       "      <td>568.489990</td>\n",
       "      <td>576.809998</td>\n",
       "      <td>558.080017</td>\n",
       "      <td>566.900024</td>\n",
       "      <td>11788500</td>\n",
       "    </tr>\n",
       "  </tbody>\n",
       "</table>\n",
       "<p>2306 rows × 6 columns</p>\n",
       "</div>"
      ],
      "text/plain": [
       "            Date        Open        High         Low       Close    Volume\n",
       "2     2010-07-01   25.000000   25.920000   20.270000   21.959999   8218800\n",
       "3     2010-07-02   23.000000   23.100000   18.709999   19.200001   5139800\n",
       "4     2010-07-06   20.000000   20.000000   15.830000   16.110001   6866900\n",
       "5     2010-07-07   16.400000   16.629999   14.980000   15.800000   6921700\n",
       "6     2010-07-08   16.139999   17.520000   15.570000   17.459999   7711400\n",
       "...          ...         ...         ...         ...         ...       ...\n",
       "2400  2020-01-10  481.790009  484.940002  473.700012  478.149994  12959500\n",
       "2405  2020-01-17  507.609985  515.669983  503.160004  510.500000  13629100\n",
       "2409  2020-01-24  570.630005  573.859985  554.260010  564.820007  14353600\n",
       "2410  2020-01-27  541.989990  564.440002  539.280029  558.020020  13608100\n",
       "2411  2020-01-28  568.489990  576.809998  558.080017  566.900024  11788500\n",
       "\n",
       "[2306 rows x 6 columns]"
      ]
     },
     "execution_count": 65,
     "metadata": {},
     "output_type": "execute_result"
    }
   ],
   "source": [
    "# Here we got the values except the outiers\n",
    "\n",
    "stock_data[(stock_data['Volume'] > Lower_limit) & (stock_data['Volume'] < Higher_limit)]"
   ]
  },
  {
   "cell_type": "markdown",
   "id": "16dff762",
   "metadata": {},
   "source": [
    "#### As we know that our data is numeric, continuous and it does not contain any categorical data.\n",
    "\n",
    "#### If our dataset contain any categorical column, so we need to do encoding means converting data from one format to another i.e converting character data (categorical data) into numeric format.\n",
    "\n",
    "#### There are three methods in Data Transformation:\n",
    "\n",
    "1. LabelEncoder\n",
    "\n",
    "2. OneHotEncoder\n",
    "\n",
    "3. Pandas dummy variable"
   ]
  },
  {
   "cell_type": "markdown",
   "id": "1bff45db",
   "metadata": {},
   "source": [
    "## Handling the skewness of data:\n",
    "\n",
    "* The shape describe the type of graph.\n",
    "\n",
    "\n",
    "* The shape of the data is important because making a decision about the probability of data is bases on its shape.\n",
    "\n",
    "#### Skewness:\n",
    "* Skewness is the measure of the asymmetry of the distribution of the data.\n",
    "\n",
    "* The data is not symmetrical i.e it is skewed towards one side.\n",
    "\n",
    "#### Skewness is classified into two types:\n",
    "**1. Positively skewed**\n",
    "\n",
    "In a positively skewed distribution, the data values are clustered arount left side of the distribution and tail is on right side.\n",
    "\n",
    "**2. Negative skewed**\n",
    "\n",
    "In a negatively skewed distribution, the data values are clustered arount right side of the distribution and tail is on left side.\n",
    "\n",
    "\n",
    "* If the skewness is between -0.5 & 0.5, the data are nearly symmetrical.\n",
    "\n",
    "\n",
    "* If the skewness is between -1 & -0.5 (negative skewed) or between 0.5 & 1(positive skewed), the data are slightly skewed.\n",
    "\n",
    "\n",
    "* If the skewness is lower than -1 (negative skewed) or greater than 1 (positive skewed), the data are extremely skewed.\n",
    "\n"
   ]
  },
  {
   "cell_type": "code",
   "execution_count": 66,
   "id": "edf4dc9a",
   "metadata": {},
   "outputs": [],
   "source": [
    "from scipy.stats import skew"
   ]
  },
  {
   "cell_type": "code",
   "execution_count": 67,
   "id": "4e8af87c",
   "metadata": {},
   "outputs": [
    {
     "data": {
      "text/html": [
       "<div>\n",
       "<style scoped>\n",
       "    .dataframe tbody tr th:only-of-type {\n",
       "        vertical-align: middle;\n",
       "    }\n",
       "\n",
       "    .dataframe tbody tr th {\n",
       "        vertical-align: top;\n",
       "    }\n",
       "\n",
       "    .dataframe thead th {\n",
       "        text-align: right;\n",
       "    }\n",
       "</style>\n",
       "<table border=\"1\" class=\"dataframe\">\n",
       "  <thead>\n",
       "    <tr style=\"text-align: right;\">\n",
       "      <th></th>\n",
       "      <th>Date</th>\n",
       "      <th>Open</th>\n",
       "      <th>High</th>\n",
       "      <th>Low</th>\n",
       "      <th>Close</th>\n",
       "      <th>Volume</th>\n",
       "    </tr>\n",
       "  </thead>\n",
       "  <tbody>\n",
       "    <tr>\n",
       "      <th>0</th>\n",
       "      <td>2010-06-29</td>\n",
       "      <td>19.000000</td>\n",
       "      <td>25.00</td>\n",
       "      <td>17.540001</td>\n",
       "      <td>23.889999</td>\n",
       "      <td>18766300</td>\n",
       "    </tr>\n",
       "    <tr>\n",
       "      <th>1</th>\n",
       "      <td>2010-06-30</td>\n",
       "      <td>25.790001</td>\n",
       "      <td>30.42</td>\n",
       "      <td>23.299999</td>\n",
       "      <td>23.830000</td>\n",
       "      <td>17187100</td>\n",
       "    </tr>\n",
       "    <tr>\n",
       "      <th>2</th>\n",
       "      <td>2010-07-01</td>\n",
       "      <td>25.000000</td>\n",
       "      <td>25.92</td>\n",
       "      <td>20.270000</td>\n",
       "      <td>21.959999</td>\n",
       "      <td>8218800</td>\n",
       "    </tr>\n",
       "    <tr>\n",
       "      <th>3</th>\n",
       "      <td>2010-07-02</td>\n",
       "      <td>23.000000</td>\n",
       "      <td>23.10</td>\n",
       "      <td>18.709999</td>\n",
       "      <td>19.200001</td>\n",
       "      <td>5139800</td>\n",
       "    </tr>\n",
       "    <tr>\n",
       "      <th>4</th>\n",
       "      <td>2010-07-06</td>\n",
       "      <td>20.000000</td>\n",
       "      <td>20.00</td>\n",
       "      <td>15.830000</td>\n",
       "      <td>16.110001</td>\n",
       "      <td>6866900</td>\n",
       "    </tr>\n",
       "  </tbody>\n",
       "</table>\n",
       "</div>"
      ],
      "text/plain": [
       "         Date       Open   High        Low      Close    Volume\n",
       "0  2010-06-29  19.000000  25.00  17.540001  23.889999  18766300\n",
       "1  2010-06-30  25.790001  30.42  23.299999  23.830000  17187100\n",
       "2  2010-07-01  25.000000  25.92  20.270000  21.959999   8218800\n",
       "3  2010-07-02  23.000000  23.10  18.709999  19.200001   5139800\n",
       "4  2010-07-06  20.000000  20.00  15.830000  16.110001   6866900"
      ]
     },
     "execution_count": 67,
     "metadata": {},
     "output_type": "execute_result"
    }
   ],
   "source": [
    "stock_data.head()"
   ]
  },
  {
   "cell_type": "code",
   "execution_count": 68,
   "id": "3bd278d1",
   "metadata": {},
   "outputs": [
    {
     "name": "stdout",
     "output_type": "stream",
     "text": [
      "Skewness of Open column is: -0.07593803765274713\n",
      "Skewness of High column is: -0.07120912261696218\n",
      "Skewness of Low column is: -0.07367400856064427\n",
      "Skewness of Close column is: -0.06906196594245254\n",
      "Skewness of Volume column is: 2.0141304538984715\n"
     ]
    }
   ],
   "source": [
    "col = stock_data[['Open','High','Low','Close','Volume']]\n",
    "col\n",
    "\n",
    "for i in col:\n",
    "    print(f\"Skewness of {i} column is: {skew(col[i])}\")"
   ]
  },
  {
   "cell_type": "code",
   "execution_count": 69,
   "id": "434fb462",
   "metadata": {},
   "outputs": [
    {
     "data": {
      "image/png": "[encoded data removed]",
      "text/plain": [
       "<Figure size 432x288 with 1 Axes>"
      ]
     },
     "metadata": {
      "needs_background": "light"
     },
     "output_type": "display_data"
    },
    {
     "data": {
      "image/png": "[encoded data removed]",
      "text/plain": [
       "<Figure size 432x288 with 1 Axes>"
      ]
     },
     "metadata": {
      "needs_background": "light"
     },
     "output_type": "display_data"
    },
    {
     "data": {
      "image/png": "[encoded data removed]",
      "text/plain": [
       "<Figure size 432x288 with 1 Axes>"
      ]
     },
     "metadata": {
      "needs_background": "light"
     },
     "output_type": "display_data"
    },
    {
     "data": {
      "image/png": "[encoded data removed]",
      "text/plain": [
       "<Figure size 432x288 with 1 Axes>"
      ]
     },
     "metadata": {
      "needs_background": "light"
     },
     "output_type": "display_data"
    },
    {
     "data": {
      "image/png": "[encoded data removed]",
      "text/plain": [
       "<Figure size 432x288 with 1 Axes>"
      ]
     },
     "metadata": {
      "needs_background": "light"
     },
     "output_type": "display_data"
    }
   ],
   "source": [
    "# Seaborn Distplot represents the overall distribution of continuous data variables. \n",
    "# The Distplot depicts the data by a histogram and a line in combination to it.\n",
    "\n",
    "for i in col:                         \n",
    "    sns.distplot(col[i])\n",
    "    plt.show()"
   ]
  },
  {
   "cell_type": "code",
   "execution_count": 70,
   "id": "eb39c264",
   "metadata": {},
   "outputs": [
    {
     "data": {
      "text/html": [
       "<div>\n",
       "<style scoped>\n",
       "    .dataframe tbody tr th:only-of-type {\n",
       "        vertical-align: middle;\n",
       "    }\n",
       "\n",
       "    .dataframe tbody tr th {\n",
       "        vertical-align: top;\n",
       "    }\n",
       "\n",
       "    .dataframe thead th {\n",
       "        text-align: right;\n",
       "    }\n",
       "</style>\n",
       "<table border=\"1\" class=\"dataframe\">\n",
       "  <thead>\n",
       "    <tr style=\"text-align: right;\">\n",
       "      <th></th>\n",
       "      <th>Open</th>\n",
       "      <th>High</th>\n",
       "      <th>Low</th>\n",
       "      <th>Close</th>\n",
       "      <th>Volume</th>\n",
       "    </tr>\n",
       "  </thead>\n",
       "  <tbody>\n",
       "    <tr>\n",
       "      <th>Open</th>\n",
       "      <td>1.000000</td>\n",
       "      <td>0.999561</td>\n",
       "      <td>0.999569</td>\n",
       "      <td>0.999029</td>\n",
       "      <td>0.491451</td>\n",
       "    </tr>\n",
       "    <tr>\n",
       "      <th>High</th>\n",
       "      <td>0.999561</td>\n",
       "      <td>1.000000</td>\n",
       "      <td>0.999494</td>\n",
       "      <td>0.999634</td>\n",
       "      <td>0.500746</td>\n",
       "    </tr>\n",
       "    <tr>\n",
       "      <th>Low</th>\n",
       "      <td>0.999569</td>\n",
       "      <td>0.999494</td>\n",
       "      <td>1.000000</td>\n",
       "      <td>0.999569</td>\n",
       "      <td>0.482724</td>\n",
       "    </tr>\n",
       "    <tr>\n",
       "      <th>Close</th>\n",
       "      <td>0.999029</td>\n",
       "      <td>0.999634</td>\n",
       "      <td>0.999569</td>\n",
       "      <td>1.000000</td>\n",
       "      <td>0.492600</td>\n",
       "    </tr>\n",
       "    <tr>\n",
       "      <th>Volume</th>\n",
       "      <td>0.491451</td>\n",
       "      <td>0.500746</td>\n",
       "      <td>0.482724</td>\n",
       "      <td>0.492600</td>\n",
       "      <td>1.000000</td>\n",
       "    </tr>\n",
       "  </tbody>\n",
       "</table>\n",
       "</div>"
      ],
      "text/plain": [
       "            Open      High       Low     Close    Volume\n",
       "Open    1.000000  0.999561  0.999569  0.999029  0.491451\n",
       "High    0.999561  1.000000  0.999494  0.999634  0.500746\n",
       "Low     0.999569  0.999494  1.000000  0.999569  0.482724\n",
       "Close   0.999029  0.999634  0.999569  1.000000  0.492600\n",
       "Volume  0.491451  0.500746  0.482724  0.492600  1.000000"
      ]
     },
     "execution_count": 70,
     "metadata": {},
     "output_type": "execute_result"
    }
   ],
   "source": [
    "# The corr() method calculates the relationship between each column in data set.\n",
    "\n",
    "stock_data.corr()"
   ]
  },
  {
   "cell_type": "code",
   "execution_count": 71,
   "id": "d0faddd1",
   "metadata": {},
   "outputs": [
    {
     "data": {
      "text/plain": [
       "<AxesSubplot:>"
      ]
     },
     "execution_count": 71,
     "metadata": {},
     "output_type": "execute_result"
    },
    {
     "data": {
      "image/png": "[encoded data removed]",
      "text/plain": [
       "<Figure size 432x288 with 2 Axes>"
      ]
     },
     "metadata": {
      "needs_background": "light"
     },
     "output_type": "display_data"
    }
   ],
   "source": [
    "# Heatmap is defined as a graphical representation of correlated data using colors to visualize the value of the matrix.\n",
    "\n",
    "sns.heatmap(col.corr(), annot = True)"
   ]
  },
  {
   "cell_type": "markdown",
   "id": "26ceb83d",
   "metadata": {},
   "source": [
    "* Now, remove the skewness for only those columns where correlation with target variable is not that good.\n",
    "\n",
    "\n",
    "* Close is our target variable.\n",
    "\n",
    "\n",
    "* Here, we can see that Volume column where correlation with Close column is not good."
   ]
  },
  {
   "cell_type": "markdown",
   "id": "98a80093",
   "metadata": {},
   "source": [
    "### Types of Machine Learning algorithms:\n",
    "**1. Supervised Learning Algorithm: Regression and Classification**\n",
    "\n",
    "**2. Unsupervised Learning Algorithm: Clustering and Association**\n",
    "\n",
    "### Supervised Learning Algorithm:\n",
    "* Supervised learning is when the model is getting trained on a labelled dataset. \n",
    "\n",
    "\n",
    "* Labelled dataset is one which has both input and output parameters.\n",
    "\n",
    "**1. Regression:**\n",
    "* Regression algorithm is used when we have to predict some data which is in range/continuous.\n",
    "\n",
    "\n",
    "* for e.g. Temp, date, day, humidity so based on temp, we have to predict humidity.\n",
    "\n",
    "**2. Classification:**\n",
    "* It is Supervised learning algorithm, where output is having defined labels (discrete values).\n",
    "\n",
    "\n",
    "* For example,if output is having – Purchased has defined labels i.e. 0 or 1; 1 means the customer will purchase and 0 means that customer won’t purchase. \n",
    "\n",
    "\n",
    "* The goal here is to predict discrete values belonging to a particular class and evaluate on the basis of accuracy."
   ]
  },
  {
   "cell_type": "markdown",
   "id": "d3e9fec3",
   "metadata": {},
   "source": [
    "**As we are having stock price data which is continuous. So, here we are using Linear Regression algorithm to predict the stock prices.**\n",
    "\n",
    "\n",
    "**If the goal is prediction, forecasting linear regression can be used to fit the predictive model to an observed dataset of x and y values.**\n",
    "\n",
    "**Linear Regression is the supervised Machine Learning model in which the model finds the best fit linear line between the independent and dependent variable i.e it finds the linear relationship between the dependent and independent variable.**\n",
    "\n",
    "\n",
    "**It is used to predict the outcome of a continuous variable.**\n",
    "\n",
    "**Using linear regression, a trader can identify the values for prices over a period of time i.e when it is increasing and decreasing etc.**\n",
    "\n",
    "\n",
    "**Stock market close price is important piece of information that is very useful for short-term trader.**"
   ]
  },
  {
   "cell_type": "markdown",
   "id": "57702352",
   "metadata": {},
   "source": [
    "**-------------------------------------------------------------------------------------------------------------------------------------------------------------------------------------------------------------**"
   ]
  },
  {
   "cell_type": "markdown",
   "id": "b5a09f56",
   "metadata": {},
   "source": [
    "### Defining Dependent and Indepenedent variable:\n",
    "\n",
    "* Now, we will define our dependent and independent variable for finding the relationship between them and prediction.\n",
    "\n",
    "\n",
    "* The Close column will our y variable that means dependent variable and rest other columns like Open, High and Low will be x variables that means independent variable"
   ]
  },
  {
   "cell_type": "code",
   "execution_count": 72,
   "id": "b3dfd9cb",
   "metadata": {},
   "outputs": [
    {
     "data": {
      "text/html": [
       "<div>\n",
       "<style scoped>\n",
       "    .dataframe tbody tr th:only-of-type {\n",
       "        vertical-align: middle;\n",
       "    }\n",
       "\n",
       "    .dataframe tbody tr th {\n",
       "        vertical-align: top;\n",
       "    }\n",
       "\n",
       "    .dataframe thead th {\n",
       "        text-align: right;\n",
       "    }\n",
       "</style>\n",
       "<table border=\"1\" class=\"dataframe\">\n",
       "  <thead>\n",
       "    <tr style=\"text-align: right;\">\n",
       "      <th></th>\n",
       "      <th>Date</th>\n",
       "      <th>Open</th>\n",
       "      <th>High</th>\n",
       "      <th>Low</th>\n",
       "      <th>Close</th>\n",
       "      <th>Volume</th>\n",
       "    </tr>\n",
       "  </thead>\n",
       "  <tbody>\n",
       "    <tr>\n",
       "      <th>0</th>\n",
       "      <td>2010-06-29</td>\n",
       "      <td>19.000000</td>\n",
       "      <td>25.00</td>\n",
       "      <td>17.540001</td>\n",
       "      <td>23.889999</td>\n",
       "      <td>18766300</td>\n",
       "    </tr>\n",
       "    <tr>\n",
       "      <th>1</th>\n",
       "      <td>2010-06-30</td>\n",
       "      <td>25.790001</td>\n",
       "      <td>30.42</td>\n",
       "      <td>23.299999</td>\n",
       "      <td>23.830000</td>\n",
       "      <td>17187100</td>\n",
       "    </tr>\n",
       "    <tr>\n",
       "      <th>2</th>\n",
       "      <td>2010-07-01</td>\n",
       "      <td>25.000000</td>\n",
       "      <td>25.92</td>\n",
       "      <td>20.270000</td>\n",
       "      <td>21.959999</td>\n",
       "      <td>8218800</td>\n",
       "    </tr>\n",
       "    <tr>\n",
       "      <th>3</th>\n",
       "      <td>2010-07-02</td>\n",
       "      <td>23.000000</td>\n",
       "      <td>23.10</td>\n",
       "      <td>18.709999</td>\n",
       "      <td>19.200001</td>\n",
       "      <td>5139800</td>\n",
       "    </tr>\n",
       "    <tr>\n",
       "      <th>4</th>\n",
       "      <td>2010-07-06</td>\n",
       "      <td>20.000000</td>\n",
       "      <td>20.00</td>\n",
       "      <td>15.830000</td>\n",
       "      <td>16.110001</td>\n",
       "      <td>6866900</td>\n",
       "    </tr>\n",
       "  </tbody>\n",
       "</table>\n",
       "</div>"
      ],
      "text/plain": [
       "         Date       Open   High        Low      Close    Volume\n",
       "0  2010-06-29  19.000000  25.00  17.540001  23.889999  18766300\n",
       "1  2010-06-30  25.790001  30.42  23.299999  23.830000  17187100\n",
       "2  2010-07-01  25.000000  25.92  20.270000  21.959999   8218800\n",
       "3  2010-07-02  23.000000  23.10  18.709999  19.200001   5139800\n",
       "4  2010-07-06  20.000000  20.00  15.830000  16.110001   6866900"
      ]
     },
     "execution_count": 72,
     "metadata": {},
     "output_type": "execute_result"
    }
   ],
   "source": [
    "stock_data.head()"
   ]
  },
  {
   "cell_type": "code",
   "execution_count": 73,
   "id": "189d0ad7",
   "metadata": {},
   "outputs": [
    {
     "data": {
      "text/html": [
       "<div>\n",
       "<style scoped>\n",
       "    .dataframe tbody tr th:only-of-type {\n",
       "        vertical-align: middle;\n",
       "    }\n",
       "\n",
       "    .dataframe tbody tr th {\n",
       "        vertical-align: top;\n",
       "    }\n",
       "\n",
       "    .dataframe thead th {\n",
       "        text-align: right;\n",
       "    }\n",
       "</style>\n",
       "<table border=\"1\" class=\"dataframe\">\n",
       "  <thead>\n",
       "    <tr style=\"text-align: right;\">\n",
       "      <th></th>\n",
       "      <th>Open</th>\n",
       "      <th>High</th>\n",
       "      <th>Low</th>\n",
       "    </tr>\n",
       "  </thead>\n",
       "  <tbody>\n",
       "    <tr>\n",
       "      <th>0</th>\n",
       "      <td>19.000000</td>\n",
       "      <td>25.000000</td>\n",
       "      <td>17.540001</td>\n",
       "    </tr>\n",
       "    <tr>\n",
       "      <th>1</th>\n",
       "      <td>25.790001</td>\n",
       "      <td>30.420000</td>\n",
       "      <td>23.299999</td>\n",
       "    </tr>\n",
       "    <tr>\n",
       "      <th>2</th>\n",
       "      <td>25.000000</td>\n",
       "      <td>25.920000</td>\n",
       "      <td>20.270000</td>\n",
       "    </tr>\n",
       "    <tr>\n",
       "      <th>3</th>\n",
       "      <td>23.000000</td>\n",
       "      <td>23.100000</td>\n",
       "      <td>18.709999</td>\n",
       "    </tr>\n",
       "    <tr>\n",
       "      <th>4</th>\n",
       "      <td>20.000000</td>\n",
       "      <td>20.000000</td>\n",
       "      <td>15.830000</td>\n",
       "    </tr>\n",
       "    <tr>\n",
       "      <th>...</th>\n",
       "      <td>...</td>\n",
       "      <td>...</td>\n",
       "      <td>...</td>\n",
       "    </tr>\n",
       "    <tr>\n",
       "      <th>2408</th>\n",
       "      <td>564.250000</td>\n",
       "      <td>582.000000</td>\n",
       "      <td>555.599976</td>\n",
       "    </tr>\n",
       "    <tr>\n",
       "      <th>2409</th>\n",
       "      <td>570.630005</td>\n",
       "      <td>573.859985</td>\n",
       "      <td>554.260010</td>\n",
       "    </tr>\n",
       "    <tr>\n",
       "      <th>2410</th>\n",
       "      <td>541.989990</td>\n",
       "      <td>564.440002</td>\n",
       "      <td>539.280029</td>\n",
       "    </tr>\n",
       "    <tr>\n",
       "      <th>2411</th>\n",
       "      <td>568.489990</td>\n",
       "      <td>576.809998</td>\n",
       "      <td>558.080017</td>\n",
       "    </tr>\n",
       "    <tr>\n",
       "      <th>2412</th>\n",
       "      <td>575.690002</td>\n",
       "      <td>589.799988</td>\n",
       "      <td>567.429993</td>\n",
       "    </tr>\n",
       "  </tbody>\n",
       "</table>\n",
       "<p>2413 rows × 3 columns</p>\n",
       "</div>"
      ],
      "text/plain": [
       "            Open        High         Low\n",
       "0      19.000000   25.000000   17.540001\n",
       "1      25.790001   30.420000   23.299999\n",
       "2      25.000000   25.920000   20.270000\n",
       "3      23.000000   23.100000   18.709999\n",
       "4      20.000000   20.000000   15.830000\n",
       "...          ...         ...         ...\n",
       "2408  564.250000  582.000000  555.599976\n",
       "2409  570.630005  573.859985  554.260010\n",
       "2410  541.989990  564.440002  539.280029\n",
       "2411  568.489990  576.809998  558.080017\n",
       "2412  575.690002  589.799988  567.429993\n",
       "\n",
       "[2413 rows x 3 columns]"
      ]
     },
     "execution_count": 73,
     "metadata": {},
     "output_type": "execute_result"
    }
   ],
   "source": [
    "# x = independent variable\n",
    "\n",
    "x = stock_data.iloc[:,1:4]\n",
    "x"
   ]
  },
  {
   "cell_type": "code",
   "execution_count": 74,
   "id": "6db100ee",
   "metadata": {},
   "outputs": [
    {
     "data": {
      "text/plain": [
       "0        23.889999\n",
       "1        23.830000\n",
       "2        21.959999\n",
       "3        19.200001\n",
       "4        16.110001\n",
       "           ...    \n",
       "2408    572.200012\n",
       "2409    564.820007\n",
       "2410    558.020020\n",
       "2411    566.900024\n",
       "2412    580.989990\n",
       "Name: Close, Length: 2413, dtype: float64"
      ]
     },
     "execution_count": 74,
     "metadata": {},
     "output_type": "execute_result"
    }
   ],
   "source": [
    "# y = dependent variable\n",
    "\n",
    "y = stock_data['Close']\n",
    "y"
   ]
  },
  {
   "cell_type": "markdown",
   "id": "94b0ab8e",
   "metadata": {},
   "source": [
    "### Splitting the data into training and testing:\n",
    "\n",
    "* Now, we need to divide the data into training and testing.\n",
    "\n",
    "\n",
    "* Then we use training data for starting analysis and defining a model."
   ]
  },
  {
   "cell_type": "code",
   "execution_count": 75,
   "id": "c0ab148a",
   "metadata": {},
   "outputs": [],
   "source": [
    "# Model_selection is a method for setting a blueprint to analyze data and then using it to measure new data.\n",
    "\n",
    "from sklearn.model_selection import train_test_split"
   ]
  },
  {
   "cell_type": "code",
   "execution_count": 76,
   "id": "81d16f27",
   "metadata": {},
   "outputs": [],
   "source": [
    "x_train, x_test, y_train, y_test = train_test_split(x, y, test_size = 0.3, random_state = 1)"
   ]
  },
  {
   "cell_type": "code",
   "execution_count": 77,
   "id": "b54d7fdf",
   "metadata": {},
   "outputs": [
    {
     "data": {
      "text/plain": [
       "(1689, 3)"
      ]
     },
     "execution_count": 77,
     "metadata": {},
     "output_type": "execute_result"
    }
   ],
   "source": [
    "x_train.shape"
   ]
  },
  {
   "cell_type": "code",
   "execution_count": 78,
   "id": "afa1e47f",
   "metadata": {},
   "outputs": [
    {
     "data": {
      "text/plain": [
       "(1689,)"
      ]
     },
     "execution_count": 78,
     "metadata": {},
     "output_type": "execute_result"
    }
   ],
   "source": [
    "y_train.shape"
   ]
  },
  {
   "cell_type": "code",
   "execution_count": 79,
   "id": "0d003636",
   "metadata": {},
   "outputs": [
    {
     "data": {
      "text/plain": [
       "(724, 3)"
      ]
     },
     "execution_count": 79,
     "metadata": {},
     "output_type": "execute_result"
    }
   ],
   "source": [
    "x_test.shape"
   ]
  },
  {
   "cell_type": "code",
   "execution_count": 80,
   "id": "33005c5b",
   "metadata": {},
   "outputs": [
    {
     "data": {
      "text/plain": [
       "(724,)"
      ]
     },
     "execution_count": 80,
     "metadata": {},
     "output_type": "execute_result"
    }
   ],
   "source": [
    "y_test.shape"
   ]
  },
  {
   "cell_type": "markdown",
   "id": "f52fd244",
   "metadata": {},
   "source": [
    "**Scikit-learn (Sklearn) is the most useful and robust library for machine learning in Python.**\n",
    "\n",
    "**Python library is a collection of functions and methods that allows you to preform many actions without writing your code**\n",
    "\n",
    "**Python library contains a collection of related modules and packages**\n",
    "\n",
    "**It provides a selection of efficient tools for machine learning and statistical modeling including classification, regression, clustering.**\n",
    "\n",
    "**This library, which is largely written in Python, is built upon NumPy, SciPy and Matplotlib.**"
   ]
  },
  {
   "cell_type": "markdown",
   "id": "63cb54ca",
   "metadata": {},
   "source": [
    "### Step - 1: Import the model"
   ]
  },
  {
   "cell_type": "code",
   "execution_count": 81,
   "id": "bd696d5c",
   "metadata": {},
   "outputs": [],
   "source": [
    "from sklearn.linear_model import LinearRegression"
   ]
  },
  {
   "cell_type": "markdown",
   "id": "ff444ca5",
   "metadata": {},
   "source": [
    "### Step - 2: Initialize the model:"
   ]
  },
  {
   "cell_type": "code",
   "execution_count": 82,
   "id": "b71ed1cc",
   "metadata": {},
   "outputs": [],
   "source": [
    "lr = LinearRegression()"
   ]
  },
  {
   "cell_type": "markdown",
   "id": "84e0ae91",
   "metadata": {},
   "source": [
    "### Step - 3: Train the model:"
   ]
  },
  {
   "cell_type": "code",
   "execution_count": 83,
   "id": "b21d50d3",
   "metadata": {},
   "outputs": [
    {
     "data": {
      "text/plain": [
       "LinearRegression()"
      ]
     },
     "execution_count": 83,
     "metadata": {},
     "output_type": "execute_result"
    }
   ],
   "source": [
    "lr.fit(x_train, y_train)"
   ]
  },
  {
   "cell_type": "code",
   "execution_count": 84,
   "id": "39d66759",
   "metadata": {},
   "outputs": [
    {
     "name": "stdout",
     "output_type": "stream",
     "text": [
      "intercept: -0.07291539603181718\n"
     ]
    }
   ],
   "source": [
    "# The intercept (often labeled as constant) is the point where the function crosses the y-axis.\n",
    "\n",
    "print(f\"intercept: {lr.intercept_}\")"
   ]
  },
  {
   "cell_type": "code",
   "execution_count": 85,
   "id": "23c418e6",
   "metadata": {},
   "outputs": [
    {
     "name": "stdout",
     "output_type": "stream",
     "text": [
      "slope: [-0.63171843  0.86283905  0.76863675]\n"
     ]
    }
   ],
   "source": [
    "print(f\"slope: {lr.coef_}\")"
   ]
  },
  {
   "cell_type": "markdown",
   "id": "531a4422",
   "metadata": {},
   "source": [
    "### Step - 4: Make Prediction:"
   ]
  },
  {
   "cell_type": "code",
   "execution_count": 86,
   "id": "c794b965",
   "metadata": {
    "scrolled": false
   },
   "outputs": [
    {
     "data": {
      "text/plain": [
       "array([382.06712664,  83.25418649, 209.8754471 ,  28.98094801,\n",
       "        32.03772455, 581.30310737, 311.48573348, 222.15215974,\n",
       "       306.91195381, 300.14781581,  30.55621743, 306.4421027 ,\n",
       "       242.19030926, 258.38794978, 226.22996065, 228.71122157,\n",
       "        28.42228292,  21.33126868,  16.81576412, 224.40115361,\n",
       "       123.56739756, 252.4321807 , 243.09610492, 276.59093018,\n",
       "        27.57101685, 205.72451324, 301.1331318 , 224.06518674,\n",
       "        34.40284168, 208.30173779,  54.03106338, 172.28981778,\n",
       "        34.93962068, 208.61022099,  31.14923913, 353.43871114,\n",
       "       237.38904603, 223.48079893,  29.45043029, 364.256963  ,\n",
       "       229.06446473, 230.64132482, 212.42670856, 291.76087443,\n",
       "       285.77989263, 299.45031957,  45.49697136, 345.40116942,\n",
       "       123.28271917])"
      ]
     },
     "execution_count": 86,
     "metadata": {},
     "output_type": "execute_result"
    }
   ],
   "source": [
    "y_pred = lr.predict(x_test)\n",
    "y_pred.reshape(-1)[1:50]"
   ]
  },
  {
   "cell_type": "code",
   "execution_count": 87,
   "id": "c556d7d0",
   "metadata": {},
   "outputs": [
    {
     "data": {
      "text/plain": [
       "(724,)"
      ]
     },
     "execution_count": 87,
     "metadata": {},
     "output_type": "execute_result"
    }
   ],
   "source": [
    "y_pred.shape"
   ]
  },
  {
   "cell_type": "code",
   "execution_count": 88,
   "id": "67d64d9d",
   "metadata": {},
   "outputs": [],
   "source": [
    "diff = pd.DataFrame({\"Actual Price\":y_test, \"Predicted Price\":y_pred, 'Difference': y_test-y_pred})"
   ]
  },
  {
   "cell_type": "code",
   "execution_count": 89,
   "id": "d65f8409",
   "metadata": {},
   "outputs": [
    {
     "data": {
      "text/html": [
       "<div>\n",
       "<style scoped>\n",
       "    .dataframe tbody tr th:only-of-type {\n",
       "        vertical-align: middle;\n",
       "    }\n",
       "\n",
       "    .dataframe tbody tr th {\n",
       "        vertical-align: top;\n",
       "    }\n",
       "\n",
       "    .dataframe thead th {\n",
       "        text-align: right;\n",
       "    }\n",
       "</style>\n",
       "<table border=\"1\" class=\"dataframe\">\n",
       "  <thead>\n",
       "    <tr style=\"text-align: right;\">\n",
       "      <th></th>\n",
       "      <th>Actual Price</th>\n",
       "      <th>Predicted Price</th>\n",
       "      <th>Difference</th>\n",
       "    </tr>\n",
       "  </thead>\n",
       "  <tbody>\n",
       "    <tr>\n",
       "      <th>760</th>\n",
       "      <td>121.610001</td>\n",
       "      <td>120.006511</td>\n",
       "      <td>1.603490</td>\n",
       "    </tr>\n",
       "    <tr>\n",
       "      <th>2384</th>\n",
       "      <td>378.989990</td>\n",
       "      <td>382.067127</td>\n",
       "      <td>-3.077137</td>\n",
       "    </tr>\n",
       "    <tr>\n",
       "      <th>724</th>\n",
       "      <td>84.839996</td>\n",
       "      <td>83.254186</td>\n",
       "      <td>1.585810</td>\n",
       "    </tr>\n",
       "    <tr>\n",
       "      <th>1578</th>\n",
       "      <td>211.410004</td>\n",
       "      <td>209.875447</td>\n",
       "      <td>1.534557</td>\n",
       "    </tr>\n",
       "    <tr>\n",
       "      <th>525</th>\n",
       "      <td>29.510000</td>\n",
       "      <td>28.980948</td>\n",
       "      <td>0.529052</td>\n",
       "    </tr>\n",
       "    <tr>\n",
       "      <th>608</th>\n",
       "      <td>32.150002</td>\n",
       "      <td>32.037725</td>\n",
       "      <td>0.112277</td>\n",
       "    </tr>\n",
       "    <tr>\n",
       "      <th>2412</th>\n",
       "      <td>580.989990</td>\n",
       "      <td>581.303107</td>\n",
       "      <td>-0.313117</td>\n",
       "    </tr>\n",
       "    <tr>\n",
       "      <th>2076</th>\n",
       "      <td>309.579987</td>\n",
       "      <td>311.485733</td>\n",
       "      <td>-1.905746</td>\n",
       "    </tr>\n",
       "    <tr>\n",
       "      <th>1388</th>\n",
       "      <td>223.410004</td>\n",
       "      <td>222.152160</td>\n",
       "      <td>1.257844</td>\n",
       "    </tr>\n",
       "    <tr>\n",
       "      <th>2173</th>\n",
       "      <td>307.880005</td>\n",
       "      <td>306.911954</td>\n",
       "      <td>0.968051</td>\n",
       "    </tr>\n",
       "  </tbody>\n",
       "</table>\n",
       "</div>"
      ],
      "text/plain": [
       "      Actual Price  Predicted Price  Difference\n",
       "760     121.610001       120.006511    1.603490\n",
       "2384    378.989990       382.067127   -3.077137\n",
       "724      84.839996        83.254186    1.585810\n",
       "1578    211.410004       209.875447    1.534557\n",
       "525      29.510000        28.980948    0.529052\n",
       "608      32.150002        32.037725    0.112277\n",
       "2412    580.989990       581.303107   -0.313117\n",
       "2076    309.579987       311.485733   -1.905746\n",
       "1388    223.410004       222.152160    1.257844\n",
       "2173    307.880005       306.911954    0.968051"
      ]
     },
     "execution_count": 89,
     "metadata": {},
     "output_type": "execute_result"
    }
   ],
   "source": [
    "diff.head(10)"
   ]
  },
  {
   "cell_type": "markdown",
   "id": "2e529e57",
   "metadata": {},
   "source": [
    "### Prediction for unseen / unknown data:"
   ]
  },
  {
   "cell_type": "code",
   "execution_count": 90,
   "id": "380ea31d",
   "metadata": {},
   "outputs": [
    {
     "data": {
      "text/plain": [
       "array([22.97729925, 27.69794058, 58.67080519, 40.39047826])"
      ]
     },
     "execution_count": 90,
     "metadata": {},
     "output_type": "execute_result"
    }
   ],
   "source": [
    "lr.predict([[19,25,17.54],[25,30,23],[20,56,30],[21,40,25]])"
   ]
  },
  {
   "cell_type": "code",
   "execution_count": 91,
   "id": "564e34b3",
   "metadata": {},
   "outputs": [
    {
     "name": "stdout",
     "output_type": "stream",
     "text": [
      "Enter the Opening price of share: 25\n",
      "Enter the Highest price of share: 30\n",
      "Enter the Lowest price of share: 23\n",
      "Closing price for share will be [27.69794058]\n"
     ]
    }
   ],
   "source": [
    "open = float(input(\"Enter the Opening price of share: \"))\n",
    "high = float(input(\"Enter the Highest price of share: \"))\n",
    "low = float(input(\"Enter the Lowest price of share: \"))\n",
    "\n",
    "a = [[open, high, low]]\n",
    "close = lr.predict(a)\n",
    "print(f\"Closing price for share will be {close}\")"
   ]
  },
  {
   "cell_type": "markdown",
   "id": "1bc58e3b",
   "metadata": {},
   "source": [
    "## Regression evaluation metrics:\n",
    "* Evaluation metrics are a measure of how good a model performs and how well it approximates the relationship.\n",
    "\n",
    "\n",
    "* So, we are calculating Mean Absolute Error(MAE), Mean Squared Error(MSE), Root Mean Squared Error(RMSE) and R2 score.\n",
    "\n",
    "\n",
    "**1. Mean Absolute Error(MAE):**\n",
    "* If the difference between values are negative. but, to calculate MAE, we use absolute value only. Always we use positive value only. We find the absolute error and calculate their mean.\n",
    "\n",
    "\n",
    "**2. Mean Squared Error(MSE):**\n",
    "* Mean square error is always positive and value closer to 0 or a lower value is better.\n",
    "\n",
    "* we need to square a error value and find the mean of those values.\n",
    "\n",
    "\n",
    "**3. Root Mean Squared Error(RMSE):**\n",
    "* It is the root of mean squared error.\n",
    "\n",
    "* It can be close to MAE value.\n",
    "\n",
    "**4. R2 Score:**\n",
    "* Coefficient of determination also called as R2 score is used to evaluate the performance of a linear regression model.\n",
    "\n",
    "* It is used to check how well observed results are reproduced by the model"
   ]
  },
  {
   "cell_type": "code",
   "execution_count": 92,
   "id": "4ecad9c8",
   "metadata": {},
   "outputs": [],
   "source": [
    "# The sklearn.metrics module implements several loss, score, and utility functions to measure model performance. \n",
    "\n",
    "from sklearn.metrics import mean_absolute_error, mean_squared_error, r2_score "
   ]
  },
  {
   "cell_type": "code",
   "execution_count": 93,
   "id": "bb0aeec8",
   "metadata": {},
   "outputs": [
    {
     "name": "stdout",
     "output_type": "stream",
     "text": [
      "MAE: 1.3879672588648004\n",
      "MSE: 4.054474648389535\n",
      "RMSE: 2.013572608174221\n",
      "Accuracy of model: 99.97006941891718\n"
     ]
    }
   ],
   "source": [
    "print(f\"MAE: {mean_absolute_error(y_test, y_pred)}\")\n",
    "print(f\"MSE: {mean_squared_error(y_test, y_pred)}\")\n",
    "print(f\"RMSE: {np.sqrt(mean_squared_error(y_test, y_pred))}\")\n",
    "print(f\"Accuracy of model: {r2_score(y_test, y_pred) * 100}\")"
   ]
  },
  {
   "cell_type": "code",
   "execution_count": 94,
   "id": "149c0e1d",
   "metadata": {},
   "outputs": [
    {
     "data": {
      "text/plain": [
       "Text(0.5, 0, 'Share price')"
      ]
     },
     "execution_count": 94,
     "metadata": {},
     "output_type": "execute_result"
    },
    {
     "data": {
      "image/png": "[encoded data removed]",
      "text/plain": [
       "<Figure size 1080x576 with 1 Axes>"
      ]
     },
     "metadata": {
      "needs_background": "light"
     },
     "output_type": "display_data"
    }
   ],
   "source": [
    "diff.head(15).plot(kind=\"barh\",figsize=(15,8))\n",
    "plt.ylabel(\"Index number\")\n",
    "plt.xlabel(\"Share price\")"
   ]
  },
  {
   "cell_type": "code",
   "execution_count": 95,
   "id": "5818973f",
   "metadata": {},
   "outputs": [
    {
     "data": {
      "text/plain": [
       "Text(0.5, 1.0, 'Actual Vs Predicted')"
      ]
     },
     "execution_count": 95,
     "metadata": {},
     "output_type": "execute_result"
    },
    {
     "data": {
      "image/png": "[encoded data removed]",
      "text/plain": [
       "<Figure size 1080x432 with 1 Axes>"
      ]
     },
     "metadata": {
      "needs_background": "light"
     },
     "output_type": "display_data"
    }
   ],
   "source": [
    "plt.figure(figsize = (15,6))\n",
    "plt.scatter(y_test,y_pred)\n",
    "plt.xlabel(\"Actual values\")\n",
    "plt.ylabel(\"Predicted values\")\n",
    "plt.title(\"Actual Vs Predicted\")"
   ]
  },
  {
   "cell_type": "markdown",
   "id": "53fdff47",
   "metadata": {},
   "source": [
    "**So, we have predicted the close price and there is no much difference in actual and predicted values with accuracy score 99.97006941891718 using Linear Regression Algorithm.**\n",
    "\n",
    "**In the above graph, we can see that there is best fit regression line between actual values and predicted ones.** "
   ]
  },
  {
   "attachments": {
    "image.png": {
     "image/png": "[encoded data removed]"
    }
   },
   "cell_type": "markdown",
   "id": "5ed42163",
   "metadata": {},
   "source": [
    "#### Random forest is a Supervised Machine Learning Algorithm that is used widely in Classification and Regression problems. \n",
    "\n",
    "\n",
    "#### It builds decision trees on different samples and takes their majority vote for classification and average in case of regression.\n",
    "\n",
    "\n",
    "#### Random forests is great with high dimensional data since we are working with subsets of data. It is faster to train than decision trees because we are working only on a subset of features in this model, so we can easily work with hundreds of features.\n",
    "\n",
    "\n",
    "\n",
    "#### \"Random Forest is a classifier that contains a number of decision trees on various subsets of the given dataset and takes the average to improve the predictive accuracy of that dataset.\"\n",
    "\n",
    "\n",
    "#### The greater number of trees in the forest leads to higher accuracy and prevents the problem of overfitting.\n",
    "\n",
    "![image.png](attachment:image.png)"
   ]
  },
  {
   "cell_type": "code",
   "execution_count": 96,
   "id": "c9e24ae8",
   "metadata": {},
   "outputs": [],
   "source": [
    "from sklearn.ensemble import RandomForestRegressor"
   ]
  },
  {
   "cell_type": "code",
   "execution_count": 97,
   "id": "a6fcc044",
   "metadata": {},
   "outputs": [
    {
     "data": {
      "text/plain": [
       "RandomForestRegressor(random_state=100)"
      ]
     },
     "execution_count": 97,
     "metadata": {},
     "output_type": "execute_result"
    }
   ],
   "source": [
    "reg = RandomForestRegressor(n_estimators = 100, random_state = 100)\n",
    "reg.fit(x_train,y_train)"
   ]
  },
  {
   "cell_type": "code",
   "execution_count": 98,
   "id": "6aabea3f",
   "metadata": {},
   "outputs": [
    {
     "data": {
      "text/plain": [
       "array([121.58429966, 381.87729299,  87.21250083, 211.71789998,\n",
       "        29.2206002 ,  32.29519967, 566.94220175, 311.91520343,\n",
       "       221.4782988 , 303.99150545, 308.48830245,  30.1235995 ,\n",
       "       309.41710206, 245.97900048, 260.1602044 , 225.7420015 ,\n",
       "       229.5867977 ,  28.61670011,  21.40390053,  16.43350028,\n",
       "       222.75330102, 122.62479801, 253.07980055, 244.52869797,\n",
       "       278.44210251,  27.63779988, 206.17110006, 300.25299525,\n",
       "       224.09409949,  34.55470108, 208.72810042,  52.09850016,\n",
       "       173.09099599,  34.29680018, 209.21420054,  31.26779982,\n",
       "       352.05020188, 237.49930104, 224.34369824,  29.26570017,\n",
       "       366.8412982 , 229.90449775, 230.84330272, 211.40600044,\n",
       "       285.22579847, 284.57760029, 297.22619468,  43.04189965,\n",
       "       346.93599656, 130.57710112])"
      ]
     },
     "execution_count": 98,
     "metadata": {},
     "output_type": "execute_result"
    }
   ],
   "source": [
    "y_pred = reg.predict(x_test)\n",
    "y_pred[:50]"
   ]
  },
  {
   "cell_type": "code",
   "execution_count": 99,
   "id": "7f694910",
   "metadata": {},
   "outputs": [
    {
     "data": {
      "text/plain": [
       "99.9317105295081"
      ]
     },
     "execution_count": 99,
     "metadata": {},
     "output_type": "execute_result"
    }
   ],
   "source": [
    "r2_score(y_test, y_pred) * 100"
   ]
  },
  {
   "cell_type": "code",
   "execution_count": 100,
   "id": "0e42d565",
   "metadata": {},
   "outputs": [
    {
     "data": {
      "text/html": [
       "<div>\n",
       "<style scoped>\n",
       "    .dataframe tbody tr th:only-of-type {\n",
       "        vertical-align: middle;\n",
       "    }\n",
       "\n",
       "    .dataframe tbody tr th {\n",
       "        vertical-align: top;\n",
       "    }\n",
       "\n",
       "    .dataframe thead th {\n",
       "        text-align: right;\n",
       "    }\n",
       "</style>\n",
       "<table border=\"1\" class=\"dataframe\">\n",
       "  <thead>\n",
       "    <tr style=\"text-align: right;\">\n",
       "      <th></th>\n",
       "      <th>Actual</th>\n",
       "      <th>Predicted</th>\n",
       "      <th>Difference</th>\n",
       "    </tr>\n",
       "  </thead>\n",
       "  <tbody>\n",
       "    <tr>\n",
       "      <th>760</th>\n",
       "      <td>121.610001</td>\n",
       "      <td>121.584300</td>\n",
       "      <td>0.025701</td>\n",
       "    </tr>\n",
       "    <tr>\n",
       "      <th>2384</th>\n",
       "      <td>378.989990</td>\n",
       "      <td>381.877293</td>\n",
       "      <td>-2.887303</td>\n",
       "    </tr>\n",
       "    <tr>\n",
       "      <th>724</th>\n",
       "      <td>84.839996</td>\n",
       "      <td>87.212501</td>\n",
       "      <td>-2.372505</td>\n",
       "    </tr>\n",
       "    <tr>\n",
       "      <th>1578</th>\n",
       "      <td>211.410004</td>\n",
       "      <td>211.717900</td>\n",
       "      <td>-0.307896</td>\n",
       "    </tr>\n",
       "    <tr>\n",
       "      <th>525</th>\n",
       "      <td>29.510000</td>\n",
       "      <td>29.220600</td>\n",
       "      <td>0.289400</td>\n",
       "    </tr>\n",
       "    <tr>\n",
       "      <th>608</th>\n",
       "      <td>32.150002</td>\n",
       "      <td>32.295200</td>\n",
       "      <td>-0.145198</td>\n",
       "    </tr>\n",
       "    <tr>\n",
       "      <th>2412</th>\n",
       "      <td>580.989990</td>\n",
       "      <td>566.942202</td>\n",
       "      <td>14.047788</td>\n",
       "    </tr>\n",
       "    <tr>\n",
       "      <th>2076</th>\n",
       "      <td>309.579987</td>\n",
       "      <td>311.915203</td>\n",
       "      <td>-2.335216</td>\n",
       "    </tr>\n",
       "    <tr>\n",
       "      <th>1388</th>\n",
       "      <td>223.410004</td>\n",
       "      <td>221.478299</td>\n",
       "      <td>1.931705</td>\n",
       "    </tr>\n",
       "    <tr>\n",
       "      <th>2173</th>\n",
       "      <td>307.880005</td>\n",
       "      <td>303.991505</td>\n",
       "      <td>3.888500</td>\n",
       "    </tr>\n",
       "    <tr>\n",
       "      <th>2137</th>\n",
       "      <td>295.390015</td>\n",
       "      <td>308.488302</td>\n",
       "      <td>-13.098287</td>\n",
       "    </tr>\n",
       "    <tr>\n",
       "      <th>403</th>\n",
       "      <td>30.250000</td>\n",
       "      <td>30.123600</td>\n",
       "      <td>0.126400</td>\n",
       "    </tr>\n",
       "    <tr>\n",
       "      <th>2167</th>\n",
       "      <td>307.510010</td>\n",
       "      <td>309.417102</td>\n",
       "      <td>-1.907092</td>\n",
       "    </tr>\n",
       "    <tr>\n",
       "      <th>1071</th>\n",
       "      <td>242.679993</td>\n",
       "      <td>245.979000</td>\n",
       "      <td>-3.299007</td>\n",
       "    </tr>\n",
       "    <tr>\n",
       "      <th>1950</th>\n",
       "      <td>257.779999</td>\n",
       "      <td>260.160204</td>\n",
       "      <td>-2.380205</td>\n",
       "    </tr>\n",
       "    <tr>\n",
       "      <th>1519</th>\n",
       "      <td>224.649994</td>\n",
       "      <td>225.742002</td>\n",
       "      <td>-1.092008</td>\n",
       "    </tr>\n",
       "    <tr>\n",
       "      <th>1447</th>\n",
       "      <td>226.889999</td>\n",
       "      <td>229.586798</td>\n",
       "      <td>-2.696799</td>\n",
       "    </tr>\n",
       "    <tr>\n",
       "      <th>370</th>\n",
       "      <td>28.530001</td>\n",
       "      <td>28.616700</td>\n",
       "      <td>-0.086699</td>\n",
       "    </tr>\n",
       "    <tr>\n",
       "      <th>17</th>\n",
       "      <td>21.290001</td>\n",
       "      <td>21.403901</td>\n",
       "      <td>-0.113900</td>\n",
       "    </tr>\n",
       "    <tr>\n",
       "      <th>6</th>\n",
       "      <td>17.459999</td>\n",
       "      <td>16.433500</td>\n",
       "      <td>1.026499</td>\n",
       "    </tr>\n",
       "  </tbody>\n",
       "</table>\n",
       "</div>"
      ],
      "text/plain": [
       "          Actual   Predicted  Difference\n",
       "760   121.610001  121.584300    0.025701\n",
       "2384  378.989990  381.877293   -2.887303\n",
       "724    84.839996   87.212501   -2.372505\n",
       "1578  211.410004  211.717900   -0.307896\n",
       "525    29.510000   29.220600    0.289400\n",
       "608    32.150002   32.295200   -0.145198\n",
       "2412  580.989990  566.942202   14.047788\n",
       "2076  309.579987  311.915203   -2.335216\n",
       "1388  223.410004  221.478299    1.931705\n",
       "2173  307.880005  303.991505    3.888500\n",
       "2137  295.390015  308.488302  -13.098287\n",
       "403    30.250000   30.123600    0.126400\n",
       "2167  307.510010  309.417102   -1.907092\n",
       "1071  242.679993  245.979000   -3.299007\n",
       "1950  257.779999  260.160204   -2.380205\n",
       "1519  224.649994  225.742002   -1.092008\n",
       "1447  226.889999  229.586798   -2.696799\n",
       "370    28.530001   28.616700   -0.086699\n",
       "17     21.290001   21.403901   -0.113900\n",
       "6      17.459999   16.433500    1.026499"
      ]
     },
     "execution_count": 100,
     "metadata": {},
     "output_type": "execute_result"
    }
   ],
   "source": [
    "diff = pd.DataFrame({'Actual': y_test, 'Predicted': y_pred, 'Difference': y_test-y_pred})\n",
    "diff[0:20]"
   ]
  },
  {
   "cell_type": "code",
   "execution_count": 101,
   "id": "9a1e8d16",
   "metadata": {},
   "outputs": [
    {
     "data": {
      "text/plain": [
       "array([22.50549925, 25.10910037, 39.31469995, 32.22170003])"
      ]
     },
     "execution_count": 101,
     "metadata": {},
     "output_type": "execute_result"
    }
   ],
   "source": [
    "reg.predict([[19,25,17],[25,30,23],[20,56,30],[21,40,25]])"
   ]
  },
  {
   "cell_type": "code",
   "execution_count": 102,
   "id": "733ff370",
   "metadata": {},
   "outputs": [
    {
     "name": "stdout",
     "output_type": "stream",
     "text": [
      "Enter the Opening price of share: 19\n",
      "Enter the Highest price of share: 25\n",
      "Enter the Lowest price of share: 17\n",
      "Closing price for share will be [22.50549925]\n"
     ]
    }
   ],
   "source": [
    "open = float(input(\"Enter the Opening price of share: \"))\n",
    "high = float(input(\"Enter the Highest price of share: \"))\n",
    "low = float(input(\"Enter the Lowest price of share: \"))\n",
    "\n",
    "a = [[open, high, low]]\n",
    "close = reg.predict(a)\n",
    "print(f\"Closing price for share will be {close}\")"
   ]
  },
  {
   "cell_type": "code",
   "execution_count": 103,
   "id": "2ceb3382",
   "metadata": {},
   "outputs": [
    {
     "data": {
      "text/plain": [
       "Text(0.5, 1.0, 'Actual Vs Predicted')"
      ]
     },
     "execution_count": 103,
     "metadata": {},
     "output_type": "execute_result"
    },
    {
     "data": {
      "image/png": "[encoded data removed]",
      "text/plain": [
       "<Figure size 1080x432 with 1 Axes>"
      ]
     },
     "metadata": {
      "needs_background": "light"
     },
     "output_type": "display_data"
    }
   ],
   "source": [
    "plt.figure(figsize = (15,6))\n",
    "plt.scatter(y_test,y_pred)\n",
    "plt.xlabel(\"Actual values\")\n",
    "plt.ylabel(\"Predicted values\")\n",
    "plt.title(\"Actual Vs Predicted\")"
   ]
  },
  {
   "cell_type": "markdown",
   "id": "72b226c2",
   "metadata": {},
   "source": [
    "**We have predicted the close price and there is no much difference in actual and predicted values with accuracy score 99.9317105295081 using Random Forest Algorithm**"
   ]
  },
  {
   "cell_type": "markdown",
   "id": "9e8a76ca",
   "metadata": {},
   "source": [
    "## Conclusion:\n",
    "\n",
    "* From above work, we get the proper analysis on Stock Price data of Tesla company from year 2010 to 2020. \n",
    "\n",
    "\n",
    "* Here, Linear regression and Random Forest algorithm is used for prediction.\n",
    "\n",
    "\n",
    "* So, we have predicted the closing price of the share and there is no much difference in actual and predicted values with accuracy score 99.97006941891718 using Linear Regression algorithm and 99.9317105295081 using Random Forest Algorithm.\n",
    "\n",
    "\n",
    "* This knowledge will be used in future to predict the share prices. \n",
    "\n",
    "\n",
    "* In the graphs also, we can see that there is best fit regression line between actual values and predicted ones.\\"
   ]
  }
 ],
 "metadata": {
  "kernelspec": {
   "display_name": "Python 3 (ipykernel)",
   "language": "python",
   "name": "python3"
  },
  "language_info": {
   "codemirror_mode": {
    "name": "ipython",
    "version": 3
   },
   "file_extension": ".py",
   "mimetype": "text/x-python",
   "name": "python",
   "nbconvert_exporter": "python",
   "pygments_lexer": "ipython3",
   "version": "3.9.1"
  }
 },
 "nbformat": 4,
 "nbformat_minor": 5
}
